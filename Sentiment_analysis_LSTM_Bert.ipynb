{
  "cells": [
    {
      "cell_type": "code",
      "execution_count": null,
      "metadata": {
        "colab": {
          "base_uri": "https://localhost:8080/"
        },
        "id": "Cu28cwbBo1u9",
        "outputId": "eb0e1e10-0f59-4e52-8663-eaa2c579def1"
      },
      "outputs": [
        {
          "name": "stdout",
          "output_type": "stream",
          "text": [
            "Mounted at /content/drive\n"
          ]
        }
      ],
      "source": [
        "from google.colab import drive\n",
        "drive.mount('/content/drive')"
      ]
    },
    {
      "cell_type": "code",
      "execution_count": null,
      "metadata": {
        "id": "OyF3gkCVo_8l"
      },
      "outputs": [],
      "source": [
        "\n",
        "import re\n",
        "import numpy as np\n",
        "import pandas as pd\n",
        "import tensorflow as tf\n",
        "import matplotlib.pyplot as plt\n",
        "import seaborn as sns\n",
        "\n",
        "#data processing\n",
        "import re, string\n",
        "# import emoji\n",
        "import nltk\n",
        "\n",
        "from sklearn import preprocessing\n",
        "from imblearn.over_sampling import RandomOverSampler\n",
        "from sklearn.model_selection import train_test_split\n",
        "\n",
        "#Naive Bayes\n",
        "from sklearn.feature_extraction.text import CountVectorizer\n",
        "from sklearn.feature_extraction.text import TfidfTransformer\n",
        "from sklearn.naive_bayes import MultinomialNB\n",
        "\n",
        "#transformers\n",
        "from transformers import BertTokenizerFast\n",
        "from transformers import TFBertModel\n",
        "from transformers import RobertaTokenizerFast\n",
        "from transformers import TFRobertaModel\n",
        "\n",
        "#keras\n",
        "import tensorflow as tf\n",
        "from tensorflow import keras\n",
        "\n",
        "#metrics\n",
        "from sklearn.metrics import accuracy_score, f1_score\n",
        "from sklearn.metrics import classification_report, confusion_matrix\n",
        "\n",
        "#set seed for reproducibility\n",
        "seed=42"
      ]
    },
    {
      "cell_type": "code",
      "execution_count": null,
      "metadata": {
        "id": "RFZDKsLWo_ue"
      },
      "outputs": [],
      "source": [
        "data = pd.read_csv('/content/drive/MyDrive/rukmininfo/jeffin/flipkart-customer-review-and-rating.zip')\n"
      ]
    },
    {
      "cell_type": "code",
      "execution_count": null,
      "metadata": {
        "colab": {
          "base_uri": "https://localhost:8080/",
          "height": 206
        },
        "id": "seVKgcq0o_rC",
        "outputId": "d842c74f-8c19-488b-89ff-79e5182ddb54"
      },
      "outputs": [
        {
          "data": {
            "text/html": [
              "\n",
              "\n",
              "  <div id=\"df-75ef726a-70d6-450b-a05e-1cefd0c2e5ff\">\n",
              "    <div class=\"colab-df-container\">\n",
              "      <div>\n",
              "<style scoped>\n",
              "    .dataframe tbody tr th:only-of-type {\n",
              "        vertical-align: middle;\n",
              "    }\n",
              "\n",
              "    .dataframe tbody tr th {\n",
              "        vertical-align: top;\n",
              "    }\n",
              "\n",
              "    .dataframe thead th {\n",
              "        text-align: right;\n",
              "    }\n",
              "</style>\n",
              "<table border=\"1\" class=\"dataframe\">\n",
              "  <thead>\n",
              "    <tr style=\"text-align: right;\">\n",
              "      <th></th>\n",
              "      <th>review</th>\n",
              "      <th>rating</th>\n",
              "    </tr>\n",
              "  </thead>\n",
              "  <tbody>\n",
              "    <tr>\n",
              "      <th>0</th>\n",
              "      <td>It was nice produt. I like it's design a lot. ...</td>\n",
              "      <td>5</td>\n",
              "    </tr>\n",
              "    <tr>\n",
              "      <th>1</th>\n",
              "      <td>awesome sound....very pretty to see this nd th...</td>\n",
              "      <td>5</td>\n",
              "    </tr>\n",
              "    <tr>\n",
              "      <th>2</th>\n",
              "      <td>awesome sound quality. pros 7-8 hrs of battery...</td>\n",
              "      <td>4</td>\n",
              "    </tr>\n",
              "    <tr>\n",
              "      <th>3</th>\n",
              "      <td>I think it is such a good product not only as ...</td>\n",
              "      <td>5</td>\n",
              "    </tr>\n",
              "    <tr>\n",
              "      <th>4</th>\n",
              "      <td>awesome bass sound quality very good bettary l...</td>\n",
              "      <td>5</td>\n",
              "    </tr>\n",
              "  </tbody>\n",
              "</table>\n",
              "</div>\n",
              "      <button class=\"colab-df-convert\" onclick=\"convertToInteractive('df-75ef726a-70d6-450b-a05e-1cefd0c2e5ff')\"\n",
              "              title=\"Convert this dataframe to an interactive table.\"\n",
              "              style=\"display:none;\">\n",
              "\n",
              "  <svg xmlns=\"http://www.w3.org/2000/svg\" height=\"24px\"viewBox=\"0 0 24 24\"\n",
              "       width=\"24px\">\n",
              "    <path d=\"M0 0h24v24H0V0z\" fill=\"none\"/>\n",
              "    <path d=\"M18.56 5.44l.94 2.06.94-2.06 2.06-.94-2.06-.94-.94-2.06-.94 2.06-2.06.94zm-11 1L8.5 8.5l.94-2.06 2.06-.94-2.06-.94L8.5 2.5l-.94 2.06-2.06.94zm10 10l.94 2.06.94-2.06 2.06-.94-2.06-.94-.94-2.06-.94 2.06-2.06.94z\"/><path d=\"M17.41 7.96l-1.37-1.37c-.4-.4-.92-.59-1.43-.59-.52 0-1.04.2-1.43.59L10.3 9.45l-7.72 7.72c-.78.78-.78 2.05 0 2.83L4 21.41c.39.39.9.59 1.41.59.51 0 1.02-.2 1.41-.59l7.78-7.78 2.81-2.81c.8-.78.8-2.07 0-2.86zM5.41 20L4 18.59l7.72-7.72 1.47 1.35L5.41 20z\"/>\n",
              "  </svg>\n",
              "      </button>\n",
              "\n",
              "\n",
              "\n",
              "    <div id=\"df-e2aa50b0-d8f4-4125-b8eb-156a59b50a32\">\n",
              "      <button class=\"colab-df-quickchart\" onclick=\"quickchart('df-e2aa50b0-d8f4-4125-b8eb-156a59b50a32')\"\n",
              "              title=\"Suggest charts.\"\n",
              "              style=\"display:none;\">\n",
              "\n",
              "<svg xmlns=\"http://www.w3.org/2000/svg\" height=\"24px\"viewBox=\"0 0 24 24\"\n",
              "     width=\"24px\">\n",
              "    <g>\n",
              "        <path d=\"M19 3H5c-1.1 0-2 .9-2 2v14c0 1.1.9 2 2 2h14c1.1 0 2-.9 2-2V5c0-1.1-.9-2-2-2zM9 17H7v-7h2v7zm4 0h-2V7h2v10zm4 0h-2v-4h2v4z\"/>\n",
              "    </g>\n",
              "</svg>\n",
              "      </button>\n",
              "    </div>\n",
              "\n",
              "<style>\n",
              "  .colab-df-quickchart {\n",
              "    background-color: #E8F0FE;\n",
              "    border: none;\n",
              "    border-radius: 50%;\n",
              "    cursor: pointer;\n",
              "    display: none;\n",
              "    fill: #1967D2;\n",
              "    height: 32px;\n",
              "    padding: 0 0 0 0;\n",
              "    width: 32px;\n",
              "  }\n",
              "\n",
              "  .colab-df-quickchart:hover {\n",
              "    background-color: #E2EBFA;\n",
              "    box-shadow: 0px 1px 2px rgba(60, 64, 67, 0.3), 0px 1px 3px 1px rgba(60, 64, 67, 0.15);\n",
              "    fill: #174EA6;\n",
              "  }\n",
              "\n",
              "  [theme=dark] .colab-df-quickchart {\n",
              "    background-color: #3B4455;\n",
              "    fill: #D2E3FC;\n",
              "  }\n",
              "\n",
              "  [theme=dark] .colab-df-quickchart:hover {\n",
              "    background-color: #434B5C;\n",
              "    box-shadow: 0px 1px 3px 1px rgba(0, 0, 0, 0.15);\n",
              "    filter: drop-shadow(0px 1px 2px rgba(0, 0, 0, 0.3));\n",
              "    fill: #FFFFFF;\n",
              "  }\n",
              "</style>\n",
              "\n",
              "    <script>\n",
              "      async function quickchart(key) {\n",
              "        const containerElement = document.querySelector('#' + key);\n",
              "        const charts = await google.colab.kernel.invokeFunction(\n",
              "            'suggestCharts', [key], {});\n",
              "      }\n",
              "    </script>\n",
              "\n",
              "      <script>\n",
              "\n",
              "function displayQuickchartButton(domScope) {\n",
              "  let quickchartButtonEl =\n",
              "    domScope.querySelector('#df-e2aa50b0-d8f4-4125-b8eb-156a59b50a32 button.colab-df-quickchart');\n",
              "  quickchartButtonEl.style.display =\n",
              "    google.colab.kernel.accessAllowed ? 'block' : 'none';\n",
              "}\n",
              "\n",
              "        displayQuickchartButton(document);\n",
              "      </script>\n",
              "      <style>\n",
              "    .colab-df-container {\n",
              "      display:flex;\n",
              "      flex-wrap:wrap;\n",
              "      gap: 12px;\n",
              "    }\n",
              "\n",
              "    .colab-df-convert {\n",
              "      background-color: #E8F0FE;\n",
              "      border: none;\n",
              "      border-radius: 50%;\n",
              "      cursor: pointer;\n",
              "      display: none;\n",
              "      fill: #1967D2;\n",
              "      height: 32px;\n",
              "      padding: 0 0 0 0;\n",
              "      width: 32px;\n",
              "    }\n",
              "\n",
              "    .colab-df-convert:hover {\n",
              "      background-color: #E2EBFA;\n",
              "      box-shadow: 0px 1px 2px rgba(60, 64, 67, 0.3), 0px 1px 3px 1px rgba(60, 64, 67, 0.15);\n",
              "      fill: #174EA6;\n",
              "    }\n",
              "\n",
              "    [theme=dark] .colab-df-convert {\n",
              "      background-color: #3B4455;\n",
              "      fill: #D2E3FC;\n",
              "    }\n",
              "\n",
              "    [theme=dark] .colab-df-convert:hover {\n",
              "      background-color: #434B5C;\n",
              "      box-shadow: 0px 1px 3px 1px rgba(0, 0, 0, 0.15);\n",
              "      filter: drop-shadow(0px 1px 2px rgba(0, 0, 0, 0.3));\n",
              "      fill: #FFFFFF;\n",
              "    }\n",
              "  </style>\n",
              "\n",
              "      <script>\n",
              "        const buttonEl =\n",
              "          document.querySelector('#df-75ef726a-70d6-450b-a05e-1cefd0c2e5ff button.colab-df-convert');\n",
              "        buttonEl.style.display =\n",
              "          google.colab.kernel.accessAllowed ? 'block' : 'none';\n",
              "\n",
              "        async function convertToInteractive(key) {\n",
              "          const element = document.querySelector('#df-75ef726a-70d6-450b-a05e-1cefd0c2e5ff');\n",
              "          const dataTable =\n",
              "            await google.colab.kernel.invokeFunction('convertToInteractive',\n",
              "                                                     [key], {});\n",
              "          if (!dataTable) return;\n",
              "\n",
              "          const docLinkHtml = 'Like what you see? Visit the ' +\n",
              "            '<a target=\"_blank\" href=https://colab.research.google.com/notebooks/data_table.ipynb>data table notebook</a>'\n",
              "            + ' to learn more about interactive tables.';\n",
              "          element.innerHTML = '';\n",
              "          dataTable['output_type'] = 'display_data';\n",
              "          await google.colab.output.renderOutput(dataTable, element);\n",
              "          const docLink = document.createElement('div');\n",
              "          docLink.innerHTML = docLinkHtml;\n",
              "          element.appendChild(docLink);\n",
              "        }\n",
              "      </script>\n",
              "    </div>\n",
              "  </div>\n"
            ],
            "text/plain": [
              "                                              review  rating\n",
              "0  It was nice produt. I like it's design a lot. ...       5\n",
              "1  awesome sound....very pretty to see this nd th...       5\n",
              "2  awesome sound quality. pros 7-8 hrs of battery...       4\n",
              "3  I think it is such a good product not only as ...       5\n",
              "4  awesome bass sound quality very good bettary l...       5"
            ]
          },
          "execution_count": 8,
          "metadata": {},
          "output_type": "execute_result"
        }
      ],
      "source": [
        "data[:5]"
      ]
    },
    {
      "cell_type": "code",
      "execution_count": null,
      "metadata": {
        "colab": {
          "base_uri": "https://localhost:8080/"
        },
        "id": "3aCbDpxAM_87",
        "outputId": "c9d31a76-a8dc-4632-d3e8-8ec599df1b69"
      },
      "outputs": [
        {
          "data": {
            "text/plain": [
              "(9976, 2)"
            ]
          },
          "execution_count": 9,
          "metadata": {},
          "output_type": "execute_result"
        }
      ],
      "source": [
        "data.shape"
      ]
    },
    {
      "cell_type": "code",
      "execution_count": null,
      "metadata": {
        "colab": {
          "base_uri": "https://localhost:8080/"
        },
        "id": "FpL8VHwzHiKt",
        "outputId": "eb266736-e399-47a8-b875-d03e88695bab"
      },
      "outputs": [
        {
          "data": {
            "text/plain": [
              "review    0\n",
              "rating    0\n",
              "dtype: int64"
            ]
          },
          "execution_count": 10,
          "metadata": {},
          "output_type": "execute_result"
        }
      ],
      "source": [
        "data.isnull().sum()"
      ]
    },
    {
      "cell_type": "code",
      "execution_count": null,
      "metadata": {
        "colab": {
          "base_uri": "https://localhost:8080/"
        },
        "id": "6PaAUWdZM_5e",
        "outputId": "9d9b0829-a516-4ed3-b251-89e89d1a2185"
      },
      "outputs": [
        {
          "data": {
            "text/plain": [
              "(500, 2)"
            ]
          },
          "execution_count": 11,
          "metadata": {},
          "output_type": "execute_result"
        }
      ],
      "source": [
        "data_new = data[:500]\n",
        "# Here we are creating a mini dataframe with 500 rows only. To check the accuracy of the model the student need to run the whole dataset.\n",
        "# Replace \"data_new\" with \"data\".\n",
        "data_new.shape"
      ]
    },
    {
      "cell_type": "code",
      "execution_count": null,
      "metadata": {
        "colab": {
          "base_uri": "https://localhost:8080/"
        },
        "id": "R-y8BQlhRBdl",
        "outputId": "dc3c3b7c-e41d-4be9-e211-36625813ba75"
      },
      "outputs": [
        {
          "name": "stderr",
          "output_type": "stream",
          "text": [
            "[nltk_data] Downloading package punkt to /root/nltk_data...\n",
            "[nltk_data]   Unzipping tokenizers/punkt.zip.\n"
          ]
        }
      ],
      "source": [
        "import nltk\n",
        "import re\n",
        "nltk.download('punkt')\n",
        "from nltk.corpus import stopwords\n",
        "from nltk.tokenize import word_tokenize\n"
      ]
    },
    {
      "cell_type": "code",
      "execution_count": null,
      "metadata": {
        "id": "4egxIzi3FQej"
      },
      "outputs": [],
      "source": [
        "nltk.download('stopwords')\n",
        "stopword_list = nltk.corpus.stopwords.words('english')\n",
        "\n",
        "stop_words = set(stopwords.words('english'))\n",
        "\n",
        "stemmer = nltk.SnowballStemmer(\"english\")\n",
        "\n",
        "\n",
        "def clean(text):\n",
        "    text = str(text).lower()\n",
        "    text = re.sub('[.*?]', '', text)\n",
        "    text = re.sub('https?://S+|www.S+', '', text) # remove punctuation tags\n",
        "    text = re.sub(r'[^\\w\\s]', '', text)\n",
        "\n",
        "    text = [word for word in text.split(' ') if word not in stop_words] # remove stop words\n",
        "    text=\" \".join(text)\n",
        "    text = [stemmer.stem(word) for word in text.split(' ')] # apply stemmer\n",
        "    text=\" \".join(text)\n",
        "    return text\n",
        "data_new[\"Review\"] = data_new['review'].apply(clean)\n"
      ]
    },
    {
      "cell_type": "code",
      "execution_count": null,
      "metadata": {
        "id": "rhXX6jyUFQay"
      },
      "outputs": [],
      "source": [
        "# Bag of Words Model\n",
        "# This is the most simple vector space representational model for unstructured text. A vector space model is simply a mathematical model to represent unstructured text (or any other data) as numeric vectors, such that each dimension of the vector is a specific feature/attribute.\n",
        "\n",
        "from sklearn.feature_extraction.text import CountVectorizer\n",
        "# get bag of words features in sparse format\n",
        "cv = CountVectorizer(min_df=0., max_df=1.)\n",
        "cv_matrix = cv.fit_transform(data_new[\"Review\"])\n",
        "cv_matrix\n",
        "\n",
        "print(cv_matrix)\n",
        "\n",
        "cv_matrix = cv_matrix.toarray()\n"
      ]
    },
    {
      "cell_type": "code",
      "execution_count": null,
      "metadata": {
        "id": "MUr4c-BWFQXr"
      },
      "outputs": [],
      "source": [
        "\n",
        "# Here we can say that documents have been converted into numeric vectors so that each document is represented by one vector (row) in the feature matrix and each column represents a unique word as a feature.\n",
        "\n",
        "#get all unique words\n",
        "vocab = cv.get_feature_names_out()\n",
        "# show document feature vectors\n",
        "pd.DataFrame(cv_matrix, columns=vocab)\n",
        "\n",
        "Find count of Reviews wrt. to ratings( 1,2,3,4,5)\n",
        "\n",
        "data_new[data_new['rating'] == 1]\n",
        "data_new[data_new['rating'] == 2]\n",
        "data_new[data_new['rating'] == 3]\n",
        "data_new[data_new['rating'] == 4]\n",
        "data_new[data_new['rating'] == 5]\n"
      ]
    },
    {
      "cell_type": "code",
      "execution_count": null,
      "metadata": {
        "id": "3vaEsRrtFQUU"
      },
      "outputs": [],
      "source": [
        "## plotting bar graph for\n",
        "plt.figure(figsize = (7,7))\n",
        "ratings = ['1star','2star','3star', '4star', '5star']\n",
        "numRatings = [len(data[data['rating'] == 1 ]),\n",
        "             len(data[data['rating'] == 2 ]),\n",
        "             len(data[data['rating'] == 3 ]),\n",
        "             len(data[data['rating'] == 4 ]),\n",
        "             len(data[data['rating'] == 5 ])\n",
        "             ]\n",
        "plt.title('Biased Dataset Alert!!')\n",
        "plt.grid(True)\n",
        "plt.bar(ratings, numRatings)\n",
        "plt.show()"
      ]
    },
    {
      "cell_type": "code",
      "execution_count": null,
      "metadata": {
        "id": "XvUN9ikvGaLL"
      },
      "outputs": [],
      "source": [
        "# pad_sequence\n",
        "\n",
        "# ‘pad_sequences’ padded the sequences into the same length.\n",
        "\n",
        "import tensorflow as tf\n",
        "from tensorflow.keras.preprocessing.text import Tokenizer\n",
        "from tensorflow.keras.preprocessing.sequence import pad_sequences\n",
        "from sklearn.model_selection import train_test_split\n",
        "\n",
        "text = data['review']\n",
        "label = data['rating']\n",
        "\n",
        "text = np.array(text)\n",
        "label = np.array(label)\n"
      ]
    },
    {
      "cell_type": "code",
      "execution_count": null,
      "metadata": {
        "id": "C5dtOnaeGaHm"
      },
      "outputs": [],
      "source": [
        "#label\n",
        "# also labels are from 1-5\n",
        "# tf expects 0-4\n",
        "label = label - 1\n",
        "label"
      ]
    },
    {
      "cell_type": "code",
      "execution_count": null,
      "metadata": {
        "id": "I9r8KXTsGaBL"
      },
      "outputs": [],
      "source": [
        "X_train, X_test, y_train, y_test = train_test_split(text, label, test_size = 0.2, random_state = 42)\n",
        "\n",
        "tokenizer = Tokenizer(num_words = 25000)\n",
        "tokenizer.fit_on_texts(X_train)\n"
      ]
    },
    {
      "cell_type": "markdown",
      "metadata": {
        "id": "KZSM3hTUIzka"
      },
      "source": [
        " fit_on_texts() Method :\n",
        "\n",
        "In the case where texts contains lists, we assume each entry of the lists to be a token. Required before using texts_to_sequences or texts_to_matrix.\n",
        "\n",
        "The fit_on_texts method is a part of Keras tokenizer class."
      ]
    },
    {
      "cell_type": "code",
      "execution_count": null,
      "metadata": {
        "id": "BEguvRipGZ9k"
      },
      "outputs": [],
      "source": [
        "X_train = tokenizer.texts_to_sequences(X_train)\n",
        "X_test = tokenizer.texts_to_sequences(X_test)"
      ]
    },
    {
      "cell_type": "code",
      "execution_count": null,
      "metadata": {
        "id": "beskkcR4IT4m"
      },
      "outputs": [],
      "source": [
        "#texts_to_sequences\n",
        "\n",
        "# Transforms each text in texts to a sequence of integers.\n",
        "\n",
        "# Only top num_words-1 most frequent words will be taken into account. Only words known by the tokenizer will be taken into account.\n",
        "\n",
        "X_train = pad_sequences(X_train, maxlen = 50)\n",
        "X_test = pad_sequences(X_test, maxlen = 50)\n",
        "\n",
        "\n",
        "# X_train.shape\n",
        "X_test.shape"
      ]
    },
    {
      "cell_type": "markdown",
      "metadata": {
        "id": "dgWwKArrJQbL"
      },
      "source": [
        "## LSTM model\n",
        "\n",
        "   #Terms\n",
        "\n",
        "-- Word embedding\n",
        "\n",
        "  Keras provides an embedding layer that converts each word into a fixed-length vector of defined size.\n",
        "\n",
        "  Here the words, that are close in meaning are grouped near to one another in vector space.\n",
        "\n",
        "  -- Example:\n",
        "\n",
        "  While representing a word such as frog, the nearest neighbour of a frog would be frogs, toads, Litoria.\n",
        "\n",
        "What are the advantages of embedding layer?\n",
        "\n",
        "  The two main advantages of Embedding over Dense layers are reduced input size and reduce computational complexity, which results in speeding up the training time."
      ]
    },
    {
      "cell_type": "code",
      "execution_count": null,
      "metadata": {
        "id": "ChUFPryzIT0_"
      },
      "outputs": [],
      "source": [
        "Mymodel = tf.keras.models.Sequential([\n",
        "\n",
        "    # Input produces a symbolic tensor-like object (i.e. a placeholder).\n",
        "\n",
        "    tf.keras.layers.Input(shape = (50,)),\n",
        "\n",
        "    #Embedding(vocab_size, embedding_dim, name=\"embedding\"),\n",
        "    tf.keras.layers.Embedding(7857, 20), # Embed a 7857 word vocabulary into 20 dimensions.\n",
        "\n",
        "    # to handle backwards input processing.\n",
        "    #\n",
        "    tf.keras.layers.Bidirectional(tf.keras.layers.LSTM(70, return_sequences = True)),\n",
        "    tf.keras.layers.LSTM(140), # Creating the number of memory units within the layer.\n",
        "    tf.keras.layers.Dense(5, activation = 'softmax') # sigmoid..binary class\n",
        "])\n",
        "\n",
        "Mymodel.compile(optimizer = 'adam', loss = 'sparse_categorical_crossentropy', metrics = ['accuracy'] )"
      ]
    },
    {
      "cell_type": "markdown",
      "metadata": {
        "id": "nzwTQYW7JrLb"
      },
      "source": [
        "keras tensor: we just give or train certain attributes that allows us to build Keras model just by knowing the inputs and outputs.\n",
        "\n",
        "Input() is used to instantiate a Keras tensor.\n",
        "\n",
        "shape: A shape tuple (integers), shape=(32,) indicates that the expected input will be batches of 32-dimensional vectors.\n",
        "    "
      ]
    },
    {
      "cell_type": "code",
      "execution_count": null,
      "metadata": {
        "id": "RHvkLh2bITvZ"
      },
      "outputs": [],
      "source": [
        "# Model fitting is a measure of how well a machine learning model generalizes to similar data to that on which it was trained.\n",
        "\n",
        "#  compile (Configures the model for training); fit (Trains the model for a fixed number of epochs);\n",
        "#  evaluate (Returns the loss value & metrics values for the model in test mode);\n",
        "#   predict (Generates output predictions for the input\n",
        "\n",
        "retVal = Mymodel.fit(X_train, y_train, batch_size=128,validation_data = (X_test,y_test), epochs = 5 )\n"
      ]
    },
    {
      "cell_type": "code",
      "execution_count": null,
      "metadata": {
        "id": "DI94DqRCKU9Q"
      },
      "outputs": [],
      "source": [
        "acc = Mymodel.evaluate(X_test,y_test)\n",
        "\n",
        "acc"
      ]
    },
    {
      "cell_type": "code",
      "execution_count": null,
      "metadata": {
        "id": "FqBKcEMWKQkZ"
      },
      "outputs": [],
      "source": [
        "\n",
        "twt = ['Meetings: Because none of us is as dumb as all of us.']\n",
        "twt_text = tokenizer.texts_to_sequences(twt)\n",
        "twt_text = pad_sequences(twt_text, maxlen = 50)\n",
        "pred_value = Mymodel.predict(twt_text)\n",
        "\n",
        "pred_value"
      ]
    },
    {
      "cell_type": "code",
      "execution_count": null,
      "metadata": {
        "id": "sqj9y1k8KZ8W"
      },
      "outputs": [],
      "source": [
        "# pred_prob = Mymodel.predict_proba(pred_value)\n",
        "predict_classes=np.argmax(pred_value,axis=1)\n",
        "print(predict_classes)"
      ]
    },
    {
      "cell_type": "code",
      "execution_count": null,
      "metadata": {
        "id": "2A7huBh4KZ4q"
      },
      "outputs": [],
      "source": [
        "# pred_prob = Mymodel.predict_proba(pred_value)\n",
        "predict_classes=np.argmin(pred_value,axis=1)\n",
        "print(predict_classes)"
      ]
    },
    {
      "cell_type": "markdown",
      "metadata": {
        "id": "iIKmFG8VKiIS"
      },
      "source": [
        "#Transformers\n",
        " Transformers are designed to handle sequential data, such as natural language, for tasks such as translation and text summarization.  "
      ]
    },
    {
      "cell_type": "markdown",
      "metadata": {
        "id": "6GCKc06uFabc"
      },
      "source": [
        "Text classification with BERT"
      ]
    },
    {
      "cell_type": "code",
      "execution_count": null,
      "metadata": {
        "colab": {
          "base_uri": "https://localhost:8080/"
        },
        "id": "_32_08uet6DW",
        "outputId": "9d1051d2-0870-40f1-f8a3-74ea5831ceb2"
      },
      "outputs": [
        {
          "name": "stdout",
          "output_type": "stream",
          "text": [
            "\u001b[2K     \u001b[90m━━━━━━━━━━━━━━━━━━━━━━━━━━━━━━━━━━━━━━━━\u001b[0m \u001b[32m7.4/7.4 MB\u001b[0m \u001b[31m14.4 MB/s\u001b[0m eta \u001b[36m0:00:00\u001b[0m\n",
            "\u001b[2K     \u001b[90m━━━━━━━━━━━━━━━━━━━━━━━━━━━━━━━━━━━━━━\u001b[0m \u001b[32m268.8/268.8 kB\u001b[0m \u001b[31m12.9 MB/s\u001b[0m eta \u001b[36m0:00:00\u001b[0m\n",
            "\u001b[2K     \u001b[90m━━━━━━━━━━━━━━━━━━━━━━━━━━━━━━━━━━━━━━━━\u001b[0m \u001b[32m7.8/7.8 MB\u001b[0m \u001b[31m16.2 MB/s\u001b[0m eta \u001b[36m0:00:00\u001b[0m\n",
            "\u001b[2K     \u001b[90m━━━━━━━━━━━━━━━━━━━━━━━━━━━━━━━━━━━━━━━━\u001b[0m \u001b[32m1.3/1.3 MB\u001b[0m \u001b[31m17.4 MB/s\u001b[0m eta \u001b[36m0:00:00\u001b[0m\n",
            "\u001b[?25h"
          ]
        }
      ],
      "source": [
        "!pip install -q transformers"
      ]
    },
    {
      "cell_type": "code",
      "execution_count": null,
      "metadata": {
        "colab": {
          "base_uri": "https://localhost:8080/"
        },
        "id": "4Mhz9WamaE2n",
        "outputId": "58102ecc-f0fe-4042-9a67-975ddd6a38b7"
      },
      "outputs": [
        {
          "data": {
            "text/plain": [
              "(500, 2)"
            ]
          },
          "execution_count": 17,
          "metadata": {},
          "output_type": "execute_result"
        }
      ],
      "source": [
        "data_new1 = data[:500]\n",
        "data_new1.shape"
      ]
    },
    {
      "cell_type": "code",
      "execution_count": null,
      "metadata": {
        "colab": {
          "base_uri": "https://localhost:8080/"
        },
        "id": "Rduti0r-aLRs",
        "outputId": "5d8d3c2a-e48b-4262-9044-070888d0a76f"
      },
      "outputs": [
        {
          "data": {
            "text/plain": [
              "Index(['review', 'rating'], dtype='object')"
            ]
          },
          "execution_count": 18,
          "metadata": {},
          "output_type": "execute_result"
        }
      ],
      "source": [
        "data_new1.columns"
      ]
    },
    {
      "cell_type": "code",
      "execution_count": null,
      "metadata": {
        "id": "V9hu43t0Z098"
      },
      "outputs": [],
      "source": [
        "df_brt = data_new1[['review','rating']]"
      ]
    },
    {
      "cell_type": "code",
      "execution_count": null,
      "metadata": {
        "id": "aobg2-MKZ03k"
      },
      "outputs": [],
      "source": [
        "#CUSTOM DEFINED FUNCTIONS TO CLEAN THE TWEETS\n",
        "\n",
        "#Clean emojis from text\n",
        "\n",
        "#Remove punctuations, links, mentions and \\r\\n new line characters\n",
        "def strip_all_entities(text):\n",
        "    text = text.replace('\\r', '').replace('\\n', ' ').replace('\\n', ' ').lower() #remove \\n and \\r and lowercase\n",
        "    text = re.sub(r\"(?:\\@|https?\\://)\\S+\", \"\", text) #remove links and mentions\n",
        "    text = re.sub(r'[^\\x00-\\x7f]',r'', text) #remove non utf8/ascii characters such as '\\x9a\\x91\\x97\\x9a\\x97'\n",
        "    banned_list= string.punctuation + 'Ã'+'±'+'ã'+'¼'+'â'+'»'+'§'\n",
        "    table = str.maketrans('', '', banned_list)\n",
        "    text = text.translate(table)\n",
        "    return text\n",
        "\n",
        "#clean hashtags at the end of the sentence, and keep those in the middle of the sentence by removing just the # symbol\n",
        "def clean_hashtags(tweet):\n",
        "    new_tweet = \" \".join(word.strip() for word in re.split('#(?!(?:hashtag)\\b)[\\w-]+(?=(?:\\s+#[\\w-]+)*\\s*$)', tweet)) #remove last hashtags\n",
        "    new_tweet2 = \" \".join(word.strip() for word in re.split('#|_', new_tweet)) #remove hashtags symbol from words in the middle of the sentence\n",
        "    return new_tweet2\n",
        "\n",
        "#Filter special characters such as & and $ present in some words\n",
        "def filter_chars(a):\n",
        "    sent = []\n",
        "    for word in a.split(' '):\n",
        "        if ('$' in word) | ('&' in word):\n",
        "            sent.append('')\n",
        "        else:\n",
        "            sent.append(word)\n",
        "    return ' '.join(sent)\n",
        "\n",
        "def remove_mult_spaces(text): # remove multiple spaces\n",
        "    return re.sub(\"\\s\\s+\" , \" \", text)"
      ]
    },
    {
      "cell_type": "code",
      "execution_count": null,
      "metadata": {
        "id": "tOJsMLuKZ00O"
      },
      "outputs": [],
      "source": [
        "texts_new = []\n",
        "for t in df_brt.review:\n",
        "    texts_new.append(remove_mult_spaces(filter_chars(clean_hashtags(strip_all_entities(t)))))\n"
      ]
    },
    {
      "cell_type": "code",
      "execution_count": null,
      "metadata": {
        "id": "dTIHVPZOZ0w-"
      },
      "outputs": [],
      "source": [
        "df_brt['text_clean'] = texts_new"
      ]
    },
    {
      "cell_type": "code",
      "execution_count": null,
      "metadata": {
        "colab": {
          "base_uri": "https://localhost:8080/",
          "height": 423
        },
        "id": "eoAXCPalZ0tl",
        "outputId": "96e7afaa-c97b-45bc-cded-60f52404bcba"
      },
      "outputs": [
        {
          "data": {
            "text/html": [
              "\n",
              "\n",
              "  <div id=\"df-2df197dd-b786-4bb1-9158-2ab8e6754c6a\">\n",
              "    <div class=\"colab-df-container\">\n",
              "      <div>\n",
              "<style scoped>\n",
              "    .dataframe tbody tr th:only-of-type {\n",
              "        vertical-align: middle;\n",
              "    }\n",
              "\n",
              "    .dataframe tbody tr th {\n",
              "        vertical-align: top;\n",
              "    }\n",
              "\n",
              "    .dataframe thead th {\n",
              "        text-align: right;\n",
              "    }\n",
              "</style>\n",
              "<table border=\"1\" class=\"dataframe\">\n",
              "  <thead>\n",
              "    <tr style=\"text-align: right;\">\n",
              "      <th></th>\n",
              "      <th>review</th>\n",
              "      <th>rating</th>\n",
              "      <th>text_clean</th>\n",
              "    </tr>\n",
              "  </thead>\n",
              "  <tbody>\n",
              "    <tr>\n",
              "      <th>0</th>\n",
              "      <td>It was nice produt. I like it's design a lot. ...</td>\n",
              "      <td>5</td>\n",
              "      <td>it was nice produt i like its design a lot its...</td>\n",
              "    </tr>\n",
              "    <tr>\n",
              "      <th>1</th>\n",
              "      <td>awesome sound....very pretty to see this nd th...</td>\n",
              "      <td>5</td>\n",
              "      <td>awesome soundvery pretty to see this nd the so...</td>\n",
              "    </tr>\n",
              "    <tr>\n",
              "      <th>2</th>\n",
              "      <td>awesome sound quality. pros 7-8 hrs of battery...</td>\n",
              "      <td>4</td>\n",
              "      <td>awesome sound quality pros 78 hrs of battery l...</td>\n",
              "    </tr>\n",
              "    <tr>\n",
              "      <th>3</th>\n",
              "      <td>I think it is such a good product not only as ...</td>\n",
              "      <td>5</td>\n",
              "      <td>i think it is such a good product not only as ...</td>\n",
              "    </tr>\n",
              "    <tr>\n",
              "      <th>4</th>\n",
              "      <td>awesome bass sound quality very good bettary l...</td>\n",
              "      <td>5</td>\n",
              "      <td>awesome bass sound quality very good bettary l...</td>\n",
              "    </tr>\n",
              "    <tr>\n",
              "      <th>...</th>\n",
              "      <td>...</td>\n",
              "      <td>...</td>\n",
              "      <td>...</td>\n",
              "    </tr>\n",
              "    <tr>\n",
              "      <th>495</th>\n",
              "      <td>good product.... you can go for it.initially i...</td>\n",
              "      <td>4</td>\n",
              "      <td>good product you can go for itinitially i felt...</td>\n",
              "    </tr>\n",
              "    <tr>\n",
              "      <th>496</th>\n",
              "      <td>This is a wonderful companion for both my phon...</td>\n",
              "      <td>4</td>\n",
              "      <td>this is a wonderful companion for both my phon...</td>\n",
              "    </tr>\n",
              "    <tr>\n",
              "      <th>497</th>\n",
              "      <td>The right and left distribution is not okay......</td>\n",
              "      <td>4</td>\n",
              "      <td>the right and left distribution is not okayoth...</td>\n",
              "    </tr>\n",
              "    <tr>\n",
              "      <th>498</th>\n",
              "      <td>nice Bluetooth headphone, I am pleased with it...</td>\n",
              "      <td>5</td>\n",
              "      <td>nice bluetooth headphone i am pleased with its...</td>\n",
              "    </tr>\n",
              "    <tr>\n",
              "      <th>499</th>\n",
              "      <td>excellent sound quality with deep bass. good b...</td>\n",
              "      <td>5</td>\n",
              "      <td>excellent sound quality with deep bass good ba...</td>\n",
              "    </tr>\n",
              "  </tbody>\n",
              "</table>\n",
              "<p>500 rows × 3 columns</p>\n",
              "</div>\n",
              "      <button class=\"colab-df-convert\" onclick=\"convertToInteractive('df-2df197dd-b786-4bb1-9158-2ab8e6754c6a')\"\n",
              "              title=\"Convert this dataframe to an interactive table.\"\n",
              "              style=\"display:none;\">\n",
              "\n",
              "  <svg xmlns=\"http://www.w3.org/2000/svg\" height=\"24px\"viewBox=\"0 0 24 24\"\n",
              "       width=\"24px\">\n",
              "    <path d=\"M0 0h24v24H0V0z\" fill=\"none\"/>\n",
              "    <path d=\"M18.56 5.44l.94 2.06.94-2.06 2.06-.94-2.06-.94-.94-2.06-.94 2.06-2.06.94zm-11 1L8.5 8.5l.94-2.06 2.06-.94-2.06-.94L8.5 2.5l-.94 2.06-2.06.94zm10 10l.94 2.06.94-2.06 2.06-.94-2.06-.94-.94-2.06-.94 2.06-2.06.94z\"/><path d=\"M17.41 7.96l-1.37-1.37c-.4-.4-.92-.59-1.43-.59-.52 0-1.04.2-1.43.59L10.3 9.45l-7.72 7.72c-.78.78-.78 2.05 0 2.83L4 21.41c.39.39.9.59 1.41.59.51 0 1.02-.2 1.41-.59l7.78-7.78 2.81-2.81c.8-.78.8-2.07 0-2.86zM5.41 20L4 18.59l7.72-7.72 1.47 1.35L5.41 20z\"/>\n",
              "  </svg>\n",
              "      </button>\n",
              "\n",
              "\n",
              "\n",
              "    <div id=\"df-a159fc00-100b-4f08-afd3-f5a78fd06819\">\n",
              "      <button class=\"colab-df-quickchart\" onclick=\"quickchart('df-a159fc00-100b-4f08-afd3-f5a78fd06819')\"\n",
              "              title=\"Suggest charts.\"\n",
              "              style=\"display:none;\">\n",
              "\n",
              "<svg xmlns=\"http://www.w3.org/2000/svg\" height=\"24px\"viewBox=\"0 0 24 24\"\n",
              "     width=\"24px\">\n",
              "    <g>\n",
              "        <path d=\"M19 3H5c-1.1 0-2 .9-2 2v14c0 1.1.9 2 2 2h14c1.1 0 2-.9 2-2V5c0-1.1-.9-2-2-2zM9 17H7v-7h2v7zm4 0h-2V7h2v10zm4 0h-2v-4h2v4z\"/>\n",
              "    </g>\n",
              "</svg>\n",
              "      </button>\n",
              "    </div>\n",
              "\n",
              "<style>\n",
              "  .colab-df-quickchart {\n",
              "    background-color: #E8F0FE;\n",
              "    border: none;\n",
              "    border-radius: 50%;\n",
              "    cursor: pointer;\n",
              "    display: none;\n",
              "    fill: #1967D2;\n",
              "    height: 32px;\n",
              "    padding: 0 0 0 0;\n",
              "    width: 32px;\n",
              "  }\n",
              "\n",
              "  .colab-df-quickchart:hover {\n",
              "    background-color: #E2EBFA;\n",
              "    box-shadow: 0px 1px 2px rgba(60, 64, 67, 0.3), 0px 1px 3px 1px rgba(60, 64, 67, 0.15);\n",
              "    fill: #174EA6;\n",
              "  }\n",
              "\n",
              "  [theme=dark] .colab-df-quickchart {\n",
              "    background-color: #3B4455;\n",
              "    fill: #D2E3FC;\n",
              "  }\n",
              "\n",
              "  [theme=dark] .colab-df-quickchart:hover {\n",
              "    background-color: #434B5C;\n",
              "    box-shadow: 0px 1px 3px 1px rgba(0, 0, 0, 0.15);\n",
              "    filter: drop-shadow(0px 1px 2px rgba(0, 0, 0, 0.3));\n",
              "    fill: #FFFFFF;\n",
              "  }\n",
              "</style>\n",
              "\n",
              "    <script>\n",
              "      async function quickchart(key) {\n",
              "        const containerElement = document.querySelector('#' + key);\n",
              "        const charts = await google.colab.kernel.invokeFunction(\n",
              "            'suggestCharts', [key], {});\n",
              "      }\n",
              "    </script>\n",
              "\n",
              "      <script>\n",
              "\n",
              "function displayQuickchartButton(domScope) {\n",
              "  let quickchartButtonEl =\n",
              "    domScope.querySelector('#df-a159fc00-100b-4f08-afd3-f5a78fd06819 button.colab-df-quickchart');\n",
              "  quickchartButtonEl.style.display =\n",
              "    google.colab.kernel.accessAllowed ? 'block' : 'none';\n",
              "}\n",
              "\n",
              "        displayQuickchartButton(document);\n",
              "      </script>\n",
              "      <style>\n",
              "    .colab-df-container {\n",
              "      display:flex;\n",
              "      flex-wrap:wrap;\n",
              "      gap: 12px;\n",
              "    }\n",
              "\n",
              "    .colab-df-convert {\n",
              "      background-color: #E8F0FE;\n",
              "      border: none;\n",
              "      border-radius: 50%;\n",
              "      cursor: pointer;\n",
              "      display: none;\n",
              "      fill: #1967D2;\n",
              "      height: 32px;\n",
              "      padding: 0 0 0 0;\n",
              "      width: 32px;\n",
              "    }\n",
              "\n",
              "    .colab-df-convert:hover {\n",
              "      background-color: #E2EBFA;\n",
              "      box-shadow: 0px 1px 2px rgba(60, 64, 67, 0.3), 0px 1px 3px 1px rgba(60, 64, 67, 0.15);\n",
              "      fill: #174EA6;\n",
              "    }\n",
              "\n",
              "    [theme=dark] .colab-df-convert {\n",
              "      background-color: #3B4455;\n",
              "      fill: #D2E3FC;\n",
              "    }\n",
              "\n",
              "    [theme=dark] .colab-df-convert:hover {\n",
              "      background-color: #434B5C;\n",
              "      box-shadow: 0px 1px 3px 1px rgba(0, 0, 0, 0.15);\n",
              "      filter: drop-shadow(0px 1px 2px rgba(0, 0, 0, 0.3));\n",
              "      fill: #FFFFFF;\n",
              "    }\n",
              "  </style>\n",
              "\n",
              "      <script>\n",
              "        const buttonEl =\n",
              "          document.querySelector('#df-2df197dd-b786-4bb1-9158-2ab8e6754c6a button.colab-df-convert');\n",
              "        buttonEl.style.display =\n",
              "          google.colab.kernel.accessAllowed ? 'block' : 'none';\n",
              "\n",
              "        async function convertToInteractive(key) {\n",
              "          const element = document.querySelector('#df-2df197dd-b786-4bb1-9158-2ab8e6754c6a');\n",
              "          const dataTable =\n",
              "            await google.colab.kernel.invokeFunction('convertToInteractive',\n",
              "                                                     [key], {});\n",
              "          if (!dataTable) return;\n",
              "\n",
              "          const docLinkHtml = 'Like what you see? Visit the ' +\n",
              "            '<a target=\"_blank\" href=https://colab.research.google.com/notebooks/data_table.ipynb>data table notebook</a>'\n",
              "            + ' to learn more about interactive tables.';\n",
              "          element.innerHTML = '';\n",
              "          dataTable['output_type'] = 'display_data';\n",
              "          await google.colab.output.renderOutput(dataTable, element);\n",
              "          const docLink = document.createElement('div');\n",
              "          docLink.innerHTML = docLinkHtml;\n",
              "          element.appendChild(docLink);\n",
              "        }\n",
              "      </script>\n",
              "    </div>\n",
              "  </div>\n"
            ],
            "text/plain": [
              "                                                review  rating  \\\n",
              "0    It was nice produt. I like it's design a lot. ...       5   \n",
              "1    awesome sound....very pretty to see this nd th...       5   \n",
              "2    awesome sound quality. pros 7-8 hrs of battery...       4   \n",
              "3    I think it is such a good product not only as ...       5   \n",
              "4    awesome bass sound quality very good bettary l...       5   \n",
              "..                                                 ...     ...   \n",
              "495  good product.... you can go for it.initially i...       4   \n",
              "496  This is a wonderful companion for both my phon...       4   \n",
              "497  The right and left distribution is not okay......       4   \n",
              "498  nice Bluetooth headphone, I am pleased with it...       5   \n",
              "499  excellent sound quality with deep bass. good b...       5   \n",
              "\n",
              "                                            text_clean  \n",
              "0    it was nice produt i like its design a lot its...  \n",
              "1    awesome soundvery pretty to see this nd the so...  \n",
              "2    awesome sound quality pros 78 hrs of battery l...  \n",
              "3    i think it is such a good product not only as ...  \n",
              "4    awesome bass sound quality very good bettary l...  \n",
              "..                                                 ...  \n",
              "495  good product you can go for itinitially i felt...  \n",
              "496  this is a wonderful companion for both my phon...  \n",
              "497  the right and left distribution is not okayoth...  \n",
              "498  nice bluetooth headphone i am pleased with its...  \n",
              "499  excellent sound quality with deep bass good ba...  \n",
              "\n",
              "[500 rows x 3 columns]"
            ]
          },
          "execution_count": 24,
          "metadata": {},
          "output_type": "execute_result"
        }
      ],
      "source": [
        "df_brt"
      ]
    },
    {
      "cell_type": "code",
      "execution_count": null,
      "metadata": {
        "colab": {
          "base_uri": "https://localhost:8080/"
        },
        "id": "8TYiOrbMeaSP",
        "outputId": "118f54a7-ff20-4e29-fb00-693c02edbef3"
      },
      "outputs": [
        {
          "data": {
            "text/plain": [
              "array(['awesome soundvery pretty to see this nd the sound quality was too good i wish to take this product loved this product read more',\n",
              "       'awesome sound quality pros 78 hrs of battery life including 45 mins approx call timeawesome sound output bass and treble are really very clear without equaliser with equaliser sound wary depends on the handset sound qualityweightless to carry and in head toomic is good but in traffic it is not too good 325535mm option is really important to mention really expecting other leading brands to implement thisconsvery tight in ears adjusters are ok this ll be very tightread more',\n",
              "       'i think it is such a good product not only as per the quality but also the design is quite good i m using this product from january in this pandamic situation it has became the most useful and helpful overall the bass and the sound quality is pretty good and another thing that will give you such a sigh of relief that it will provide a wire that will help you in case of lacking chargesread more',\n",
              "       'awesome bass sound quality very good bettary long life and i have a purchase rs999 only really grateful product dont forget to likeread more',\n",
              "       'awsome sound powerful bass battery backup is also excellent and i loved bass the most and im huge lover of music and the most bass design and build is also very niceand this was my first time when i bought and headphone or and electronics item and glad to say on the first time only i loved it its a very excellent product thanks boat for making such a nice product keep making such and the most thanks to flipkart team for delivering such a nice product by risking there lifread more',\n",
              "       'this product sound is clear and excellent bass obviously this is a good product valuable from money so guys any no daut this is a really good productread more',\n",
              "       'should u buy thispros1 sound quality and build quality is awesome2 bluetooth connectivity is average3 bass is clear and high 4 battery backup is very good5 u can use this as wire headphone when u have no charge on headphonethis is goodcron1 if u use it for too long u can feel the pain in ur ear2 its on the ear not over the earif u need over the ear at this price go for moto puls maxfinal opinionif u want good sound quality good bass and a wireless headread more'],\n",
              "      dtype=object)"
            ]
          },
          "execution_count": 25,
          "metadata": {},
          "output_type": "execute_result"
        }
      ],
      "source": [
        "df_brt['text_clean'][1:8].values"
      ]
    },
    {
      "cell_type": "code",
      "execution_count": null,
      "metadata": {
        "id": "v-99ea2veaPG"
      },
      "outputs": [],
      "source": [
        "text_len = []\n",
        "for text in df_brt.text_clean:\n",
        "    tweet_len = len(text.split())\n",
        "    text_len.append(tweet_len)"
      ]
    },
    {
      "cell_type": "code",
      "execution_count": null,
      "metadata": {
        "id": "N-_jqk1VeaL5"
      },
      "outputs": [],
      "source": [
        "df_brt['text_len'] = text_len"
      ]
    },
    {
      "cell_type": "code",
      "execution_count": null,
      "metadata": {
        "colab": {
          "base_uri": "https://localhost:8080/"
        },
        "id": "DOAnXoXgeaIk",
        "outputId": "6bdc6694-f60c-4bce-819a-b04d563fe17c"
      },
      "outputs": [
        {
          "name": "stdout",
          "output_type": "stream",
          "text": [
            " DF SHAPE: (500, 4)\n"
          ]
        }
      ],
      "source": [
        "print(f\" DF SHAPE: {df_brt.shape}\")"
      ]
    },
    {
      "cell_type": "code",
      "execution_count": null,
      "metadata": {
        "id": "Lf_dxGIzeo06"
      },
      "outputs": [],
      "source": [
        "df_brt = df_brt[df_brt['text_len'] > 4]"
      ]
    },
    {
      "cell_type": "code",
      "execution_count": null,
      "metadata": {
        "colab": {
          "base_uri": "https://localhost:8080/"
        },
        "id": "_Vyu_j8ReoxH",
        "outputId": "dc0890d1-0bc8-4280-cafb-846fa8a783a3"
      },
      "outputs": [
        {
          "name": "stdout",
          "output_type": "stream",
          "text": [
            " DF SHAPE: (500, 4)\n"
          ]
        }
      ],
      "source": [
        "print(f\" DF SHAPE: {df_brt.shape}\")"
      ]
    },
    {
      "cell_type": "code",
      "execution_count": null,
      "metadata": {
        "colab": {
          "base_uri": "https://localhost:8080/",
          "height": 145,
          "referenced_widgets": [
            "e5602857cdf94001adfc537ded41b330",
            "25f5b8b1149e4b358cc70229262d57c1",
            "ff5d65a669784257b8523ed6ab09175d",
            "f6338e35170047f28fe5b46ec2e8de1d",
            "4698d9659a6a4a05b8a81fb3f313c2bf",
            "36669fa5a01c4892b5526522359b82e4",
            "318a71a4e04d44b193c7a1632aa955dc",
            "5a79baa4acc4407a90b5b9317c95870c",
            "37eddd5069a0442da4c3ba8c207f744d",
            "38411734b77a4cd8a5684689079402bb",
            "86c049b4af0c4f349eebefc95cf7e441",
            "d3137882fcff4d7b8acc23425f635c68",
            "db8c3cdaa958495e941ee674ebf08a71",
            "4ea1b3b2dcc34e588dd31c9e882442c7",
            "ec9327d7a6454044b3e549475d23324a",
            "05caa285a96b4cd993965386175043b8",
            "4199ec72771b4d9e88e1db3da8f6d4c4",
            "a9206aa2a68144c2bbd69f5398560ac1",
            "f6b03be4d8834ef1a08b6f865ae10a06",
            "53f276a8472b46019a12327f948c5af2",
            "6016ac1f43e846d892c15f1cb4549fc7",
            "c790a7c9eb3e45509db1547862a4d1a6",
            "4c5d92ba4e8f416498ef663be634dabd",
            "769b78f4dd8542b8896a9f34d246358e",
            "226ea248cfd741c189b1b0c847ca52cf",
            "5462d8a66a154d5c884530a248ffa3bf",
            "34f0bd9b112448638f8e689454100d83",
            "097288f06d494120abe9759214c263c8",
            "6f7852f5f995424287383a272d2ea372",
            "5f08794c453a430981f2972ac9d56e62",
            "8e3aae7f4720416cbb0ffaa929d5dc99",
            "93b4bca4047b4fe08246abe6f7d4a4ca",
            "0b3733e8d8774afb974e4789efc80d2a",
            "a768df1b5594467c85381e8de64d63b5",
            "a906a3ce767d44afa8bd803809956b31",
            "cac2771792c448d4bebf3aa1a6cf36e1",
            "51b731157e294312a54cca4947357360",
            "ed1940bdd0ca41d59b024f758e57b287",
            "6baf9ef572aa4506bb06dcd992b0c35d",
            "b369c1b3919143b59156670e3deefdfb",
            "156ce377bf4e431a8905b8741d0f7295",
            "4cb1261e62f14087b5c87448ed03da79",
            "53bf36e6b1204cfba04b8e7134490dc0",
            "1b3399564d98433f847cd9b1f460aae8"
          ]
        },
        "id": "HNmoZseUvnaJ",
        "outputId": "0c349d62-865b-454e-c3a6-7423a05175a5"
      },
      "outputs": [
        {
          "data": {
            "application/vnd.jupyter.widget-view+json": {
              "model_id": "e5602857cdf94001adfc537ded41b330",
              "version_major": 2,
              "version_minor": 0
            },
            "text/plain": [
              "Downloading (…)okenizer_config.json:   0%|          | 0.00/28.0 [00:00<?, ?B/s]"
            ]
          },
          "metadata": {},
          "output_type": "display_data"
        },
        {
          "data": {
            "application/vnd.jupyter.widget-view+json": {
              "model_id": "d3137882fcff4d7b8acc23425f635c68",
              "version_major": 2,
              "version_minor": 0
            },
            "text/plain": [
              "Downloading (…)solve/main/vocab.txt:   0%|          | 0.00/232k [00:00<?, ?B/s]"
            ]
          },
          "metadata": {},
          "output_type": "display_data"
        },
        {
          "data": {
            "application/vnd.jupyter.widget-view+json": {
              "model_id": "4c5d92ba4e8f416498ef663be634dabd",
              "version_major": 2,
              "version_minor": 0
            },
            "text/plain": [
              "Downloading (…)/main/tokenizer.json:   0%|          | 0.00/466k [00:00<?, ?B/s]"
            ]
          },
          "metadata": {},
          "output_type": "display_data"
        },
        {
          "data": {
            "application/vnd.jupyter.widget-view+json": {
              "model_id": "a768df1b5594467c85381e8de64d63b5",
              "version_major": 2,
              "version_minor": 0
            },
            "text/plain": [
              "Downloading (…)lve/main/config.json:   0%|          | 0.00/570 [00:00<?, ?B/s]"
            ]
          },
          "metadata": {},
          "output_type": "display_data"
        }
      ],
      "source": [
        "tokenizer = BertTokenizerFast.from_pretrained('bert-base-uncased')"
      ]
    },
    {
      "cell_type": "code",
      "execution_count": null,
      "metadata": {
        "id": "YvTviak-esk-"
      },
      "outputs": [],
      "source": [
        "token_lens = []\n",
        "\n",
        "for txt in df_brt['text_clean'].values:\n",
        "    tokens = tokenizer.encode(txt, max_length=512, truncation=True)\n",
        "    token_lens.append(len(tokens))\n",
        "\n",
        "max_len=np.max(token_lens)"
      ]
    },
    {
      "cell_type": "code",
      "execution_count": null,
      "metadata": {
        "colab": {
          "base_uri": "https://localhost:8080/"
        },
        "id": "fU_1qnBKeshY",
        "outputId": "54f69937-425c-41ad-a6b3-af2fa798a278"
      },
      "outputs": [
        {
          "name": "stdout",
          "output_type": "stream",
          "text": [
            "MAX TOKENIZED SENTENCE LENGTH: 120\n"
          ]
        }
      ],
      "source": [
        "print(f\"MAX TOKENIZED SENTENCE LENGTH: {max_len}\")"
      ]
    },
    {
      "cell_type": "code",
      "execution_count": null,
      "metadata": {
        "colab": {
          "base_uri": "https://localhost:8080/"
        },
        "id": "Y1sNXdkBfAd7",
        "outputId": "c9620e50-9cbf-4125-9bfe-940289e8ef0b"
      },
      "outputs": [
        {
          "name": "stdout",
          "output_type": "stream",
          "text": [
            "INDEX: 2, TEXT: awesome sound quality pros 78 hrs of battery life including 45 mins approx call timeawesome sound output bass and treble are really very clear without equaliser with equaliser sound wary depends on the handset sound qualityweightless to carry and in head toomic is good but in traffic it is not too good 325535mm option is really important to mention really expecting other leading brands to implement thisconsvery tight in ears adjusters are ok this ll be very tightread more\n",
            "INDEX: 3, TEXT: i think it is such a good product not only as per the quality but also the design is quite good i m using this product from january in this pandamic situation it has became the most useful and helpful overall the bass and the sound quality is pretty good and another thing that will give you such a sigh of relief that it will provide a wire that will help you in case of lacking chargesread more\n",
            "INDEX: 5, TEXT: awsome sound powerful bass battery backup is also excellent and i loved bass the most and im huge lover of music and the most bass design and build is also very niceand this was my first time when i bought and headphone or and electronics item and glad to say on the first time only i loved it its a very excellent product thanks boat for making such a nice product keep making such and the most thanks to flipkart team for delivering such a nice product by risking there lifread more\n",
            "INDEX: 7, TEXT: should u buy thispros1 sound quality and build quality is awesome2 bluetooth connectivity is average3 bass is clear and high 4 battery backup is very good5 u can use this as wire headphone when u have no charge on headphonethis is goodcron1 if u use it for too long u can feel the pain in ur ear2 its on the ear not over the earif u need over the ear at this price go for moto puls maxfinal opinionif u want good sound quality good bass and a wireless headread more\n",
            "INDEX: 8, TEXT: first of all i want to talk about sound quality the sound quality is best for this price segment bass is really punchy mids are also good but on high volumes the sound cracks a bit otherwise it is really nice 910then come the build quality the build quality too is amazing you cant get better headphones than these they are sturdy and very light made out of very good quality plastic 9510the thing i didnt like was that they are a bit tight sometimes they become uncomfortaread more\n",
            "INDEX: 14, TEXT: reson for 1 star sounds for alerts for connection low battery incoming calls etc plays at 10 times of volume then the volume that we usually hear anything on headphones these notification plays at sound level that everyone in the room will hear it imagine it playing when u r wearing this headphones its like a blast in ur ears out of nowhere when it plays like that loud when im wearing it i wish to throw it awayreason why i hvnt thrown it away yet decent sound quality and baread more\n",
            "INDEX: 15, TEXT: yes it is good in all aspectexcept mic i tried to talk using mic over bluetooth but other person cannot hear it clearly and also that low sound irritates them so if you want something to enjoy music in budget and quality this is good and yes it is tight but with use it gets loosen little but not comfortable for big head i feel my head is small so in a week i got comfortable with it and keeping the volume mid range you can use it for hours like i use for 23 hrs a day but keepiread more\n",
            "INDEX: 16, TEXT: sound its relay rock when i compare with other headphones i used hp lg sony battery thanks to the designer awesome battery backup if u hearing songs on ful day the battery back for 2 days negative the mic was not clear when we drive its not audible also when we speaking calls the sound not louder it head phonesif this sb improved it headphones relay wonderful product for 1499 worth no doubt please go with thisalso customer service response is good rate 45iread more\n",
            "INDEX: 18, TEXT: good productsound quality is good but bass is not so heavy as they are saying i saw that this product has got 43 ratings then i placed order now truly saying that i am some of dissatisfied with this product bluetooth connectivity is good but i there is a huge lack can be shown when some music tracks are playing through bluetooth no issues for aux mode built quality is not so good the main thing i was searching for a bass heavy headphones and they are saying that this is bass heavy soread more\n",
            "INDEX: 19, TEXT: best budget headset at this price range so buy it during offers period sound quality is awesome bass is extremely good and battery backup is 8 hours and charging time is 1 and half hours main cons 1tight ear cuffs 2 sweating in just 20 minutes and we want to adjust it in regular intervals and mike quality is worst the other person is hearing the more surrounding noise 3overall rating is 8510 and for bass 910 sound quality 910 built quality 710 battery backup 9read more\n",
            "INDEX: 43, TEXT: 1st of all its very popular and boat is very good in sound production they have heavy and punchy bass which is nice used many boat ear phones and the experience was nice and with this boat rockerz 400 its even better yes it will feel uncomfortable if you have been fond of over the ear headphones rather than that sound is great bass is awesome build is good design is stylish battery backup is also preety goodif you are buying an on the ear headphone for the 1st time and never used an over tread more\n",
            "INDEX: 45, TEXT: firstly thanks to flipkarti got the headphones 4 days earlierjust imagineblazing fast delivery by flipkartok so i am reviewing after using it for 5 days1 design comfort frankly speaking these were my first headphones design is pretty satisfactory and you can show off in front of your friends i purchased black and red one the earcups are adjustable and i had no problem in wearingnow comfort many were saying these are very tight and uncomfortable but honestread more\n",
            "INDEX: 52, TEXT: this is my honest review after 10 months of use i bought this for 1499 from flipkartif you are a bass lover go for it without any confusionthe base is very punchy you can feel your ear vibrate with thispros punchy bass dont know if any other headsets can provide this much bass mids treble are crystal clear you can hear every instruments battery backup is excellent im getting upto 3 days with above moderate use and if used accordingly we can push upto a week charges quicread more\n",
            "INDEX: 58, TEXT: value for money got this headphone for 1k in summer salesound quality is awesome with good bass and very good noise cancelation also it connects to the devices very quickly n those devices shows battery percentage of headphone also this is thr coolest thing of headphone if u often listen music then this headphone is for u so go for itmust buy headphone satisfied with my purchaseread more\n",
            "INDEX: 63, TEXT: dont buy colour with cotton cushion it dont look that good i prefer the one with leather air cushion sound quality 910 in this price range it is goodbass 710 i didnt get that much design 910 recommend to buy one with leather cushion battery 1010 notice cancellation is also gud i recommend to buy this product at sale u can get it at cheap priceplz guyz dont buy this headphone to play pubg bass of this heaphone disturb while gaming u cant get crystal clear qualread more\n",
            "INDEX: 69, TEXT: bought it for 999 its definitely worth for the amount we are paid to get thosepros1 high bass with hd sound quality use poweramp music player to get best of this headphone2 battery backup those who use 34 hours daily will have a battery backup of 35 days tested with my limitsconsbut it will not be able to make you feel comfort and you will regret after buying one of these for the reasons which can easily sort out by the manufacturer1 the ear cushions which are not read more\n",
            "INDEX: 71, TEXT: totally impressed by its sound quality satisfied brillantniceworth it value for money 1sound quality is very clear and crystal2bass quality is superb especially for the dj remix songs 3the colourwhitegery is much good looking 4 but the mic is little bit bad we or the other speaking person not able to hear our voice properlyin calling time 5also the fitting is quite good but not as much because it is little bit tight over the earsread more\n",
            "INDEX: 72, TEXT: nice sound quality will give 4 out of 5super bass will give 4 out of 5design and quality will give 4 out of 5excellent and super battery will give 45 out of 5around 8 hour song hearing battery backupperfect fitsultralight weightnoise cancellation up to the mark or below average qualityvoice calling quality is below average quality will give 25 out of 5mic working goodaux cable and data cable included working finecushions can be better and very softoverall these prodread more\n",
            "INDEX: 75, TEXT: a decent headphonei buy it for 1000rs very satisfied with the productpros1good design2good quality look3very good bass4light weight5good battery backupcons1its little bit tightdont know if it get wasy afta using so muchears getting painthis problem is seen in many reviewsyoutube also2good for ppl who loves basscz normal sound is little bit straight3buttons not feel so durableread more\n",
            "INDEX: 80, TEXT: i was really excited about the headphones at first sound quality is above expectations bass is also good but the main issue comes in the comfort levelthese headphones are not all comfortable youll start feeling the pain in your ears withing 1015 mins of use the worst part is return option is not available in this product you can only exchange it really disappointed as whats the use of good music if you are not comfortable with the productread more\n",
            "INDEX: 82, TEXT: got this headphone at just rs 899 in offer i can say its just an amazing well worth design and build quality is not up to the mark its quite uncomfortable too if you wear it for too long or may be im feeling it because its new after using it for a month i may be use to it thats alright i was not expecting much either and it can be neglected after seeing its price but the best part is sound and the bass which lits this headphone its amazing to listen songs and if youre a lover ofread more\n",
            "INDEX: 89, TEXT: bought for rs999 on big billion dayssupercomnetreceived within 40 hrs5 star for flipkart superfast deliveryon discounted products i had assumed that box wid be brokensealed openbut to my surprise i received a brand new box completely sealed and in very good conditioni was very happy for this as half the times it is not the case5 stars for packaging and sending a brand new sealed boxcoming to the product product is good for the pricebass is just ok not gr8 but not bad eread more\n",
            "INDEX: 91, TEXT: ive been using the boat rockerz 400 for almost 7 months now and wellz these are my impressions and im impressed for its performance considering the price pros1 good bass the bass is really good and really has that beat to it and its not too much extreme so as to cancel the audible vocals while being good enough2 durability i dont know why some people rated durability a minus but i gotta say the thing is pretty durable and it pretty much is in the same state as when i gotread more\n",
            "INDEX: 92, TEXT: 1sound quality is pretty good and bass is also good2battery backup is excellentmostly if you go outside you can trust battery itll stand up to 68 hrs 3build quality is not good because it feels painful over ears the cushion is for no use my ears feel tightnessand makes me mad sometimes4for pubg you cant judge the footsteps clearly even at full volume use it with aux cable while playing pubglil bit betteroverall if you want comfortable one go with costly oneanread more\n",
            "INDEX: 102, TEXT: pros excellent battery backup nearly 7 hrs good bass all in one wired and wireless built in mic playpause receiveend call good build quality worth the pricei got it at 699300 cashback from phonepe onlycons bass is nothing until using bass boost worst sound quality when connecting to 35 mm jack need to speak loudly while talking to someonealso voice is very low so needs to listen carefullyread more\n",
            "INDEX: 103, TEXT: this is my first product from boat and this headphone is just awesome the sound quality is just amazing and its very loud you can feel the vibration when you are playing music this headphone comes with one year warranty which is just super the packing of the product is soooooo good the design and build is just appreciated even celebrities can use this headphone this headphone is very cheap but its performance is incredibly wonderful dont think just buy it now if you foundread more\n",
            "INDEX: 104, TEXT: its very good for 30 minutes to 1 hour usage ear cup is small along with a small frame so it gives high pressure on the ear its over the ear headphone as described but i didnt expect it going to be so uncomfortable and no refund bass is too much so u miss the other instruments build quality is ok because its a simple design where the ear cups are fixed on 2 steel rods so i hope it should lastsoud quality is good superb alternate is the iball headsetread more\n",
            "INDEX: 107, TEXT: helo friendssince boat is trending now in the headphone accessories market many will need a second opinion before purchase i have used earphones of jbl senheizzer skullcandy and mi till now i also had a chance to use sony wired headset oncethe product boat rickerz 400 headset is an entry level headset which i got at an offer price of 999rs the product was delivered within a week time and well packed kudos to ekart on a better delivery however the product box inside the courier paread more\n",
            "INDEX: 110, TEXT: i dont know how people give 1star to this product this product should be given 45 stars bcoz it has superb bass as well as battery backup is extremely good can watch almost two movies at a time and after that can use the wire given in it appreciation for such an amount is needed for a product like thiswriting this from mumbai andheri atlast mumbai style ka review product bohut hard hai read more\n",
            "INDEX: 114, TEXT: i gifted this to my sister on rakhiwe were very happy to see the box and the quality of what we got at this pricethe sound quality is very goodi have used other headphones including philips audiotechnica sony and also soundmagicthis stands with quality to audiotechnica and yeah bluetooth works perfectlyboataudiotechnica1300rs rangesoundmagicphilipssonyso should u buy this yes if ur budget stands near 10001200read more\n",
            "INDEX: 120, TEXT: if i talk about the sound quality of this i want to rate 100very awsm quality of deep bass and very peaceful to my ears design i liked this thing very much because one of my friend owned this awsm product from him i get to know about this wonderful product i am in a search of sorry i cant say anything much about battery back up because i am writing this review within 1day of this product delivery i liked this product hope u all shiread more\n",
            "INDEX: 131, TEXT: its a decent good product for the price since i am using it for 45 month and i am not facing any issue with the sound the sound of this headphone are just satisfying and best in this price i must say and talking about battery backup this headphone comes with a good battery long lasting hence i used to play 12 hour daily so battery remain till 56 daysproblemthe only problem i faced after 1 month with this product is its bluetooth range and which problem is common in every bluetoread more\n",
            "INDEX: 132, TEXT: its product is really too good im really very happy with it bcos its only for those who want a bajact wireless headphone everything iss good with it only a its looks sometime i feel is simple but it is not my cup of tea but if u r looking only for looking then u can go for others also but its praformes iss too gud in this price i got it in rs 1100read more\n",
            "INDEX: 136, TEXT: sound clarity and bass is above average loved it but the most irritating thing is that its not comfortable at all it holds both of our earpieces like a hell not recommended for gaming even though im a hard gamer it cannot be used for more than 15mins hardly aux is perfectly fine no issue with that but the bluetooth connectivity also irritating me at some points while using through bt it produces some awkward sounds when we pauseplaypauseplay a video first i thought itsread more\n",
            "INDEX: 137, TEXT: best headphones at this price i got it for 850 and for that its a steal dealthis is going to be a long term review when i was buying this i have boat 450 in my mind too but somewhere i research both and found boat 450 is not durable and gets brick from its joints and also 450 have very heavy bass which kills mids and highs sometimesfor example in pubg if you using m762 and when you spray you will not able to hear anything else because of that heavy bass in boat 450now coming to boat 4read more\n",
            "INDEX: 140, TEXT: built quality base colour are excellent the foam material which holds on ears are made with quality products one can adjust the soeakers in various directions aux cable and charger cable provided in the box you can use aux cable to enjoy music if you have not available with bluetooth option i opted for black and red model which is amazing go for it you may get it within 96400 in sale daysread more\n",
            "INDEX: 143, TEXT: the reason for choosing this one over all othersit works both with bluetooth and aux cablewiredso bhagwan na kare agar bluetooth kharab ho jae toh u can still use aux cable to use it as wired its one advantage and a big one over others two in one its tight fit ears will pain after 3045 mins but it mit get loosen with time voice is good connectivity working fine till now bass is good looks good built wise in short leke baat khatam karo 1399 me aur kya chahiyeread more\n",
            "INDEX: 145, TEXT: the product description page says it is bluetooth v 41 but it is actually v 21 which means poor connectivity and rangeyou have to adjust equalizer settings in your phone if it allows to get good sound else you will hear just bass and vocals and other sounds will be suppressed sound quality is good to listen to musicbeware if you are buying it to make regular or voip calls the sound keeps breaking with noise not ideal for calls and meetingsbuild quality could have been betterread more\n",
            "INDEX: 154, TEXT: overall its a nice product bass is good voice accuracy is little inaccurate while playing songs battery backup is also good range is not actually 10m within 67min range it can be used overall its a good product or we can say the best value for money deal specially during the sales it little tight on ear so it can not be used for the day long except the mentioned issues its very niceread more\n",
            "INDEX: 159, TEXT: better than other competitors in this price segmentits way better than jbl t500bt which is price d at 3kits competitor in terms are sound quality is sony wh ch 500 which is available at 3k in big billions go for itmy advise to those are thinking to buy one good pair of headphones is go to chroma or reliance digital and check the sound quality of various ranges of headphones and then buy one according to your budgetread more\n",
            "INDEX: 162, TEXT: pros1 sound quality is well balanced for indian music2every instrument as well as vocals can be heard clearly3 battery life is awesome easily lasts 89 hrs in a 3 hrs charge4 connectivity is decent goes up to 78 mtrs without any issue5 headphones are quite sturdy my headphones gave fallen couple of times from a considerable distance but nothing happenedcons1 ear cups are not that soft gud for 1525 hrs of use after that it starts bothering your ear2 size fit coread more\n",
            "INDEX: 170, TEXT: i gave it four stars because theres humming sound when you are playing tracks not when youve paused the music only hardcore music lovers will be able to detect it i thought my product has this but after searching i saw very few people have mentioned it dont get me wrong the sound quality is not at all bad and the humming sound is also not so loud it will be okay for most of you battery backup is good connectivity range is average like most bl headset i think green color gives a uread more\n",
            "INDEX: 172, TEXT: awesome sound quality in the beginning i was like 8 hrs of battery backup will not be sufficient for a music lover like me then after purchasing starting using it i came to know that i dont listen to music for more than 3 hrs a day so i can use it for almost 3 days in a single charge so i am over all happy with this headphone for everything a recommended product by me read more\n",
            "INDEX: 175, TEXT: these are the best headphonesthanks to flipkart for selling at 999if u get it at this price then this is the best earphones in these price categorypros1good bass2nice sound quality3 battery backup of 8hrs pluscons1 takes 2 hrs to charge fully2felt call flickering sometimes3built could have been improved to hide the connecting wire between earpiecesoverall i have used jbl t450t and sony headphonesand this one is good in terms of sound quality at the price of 999read more\n",
            "INDEX: 177, TEXT: great product at great pricesordered after a lot of search in youtube so at last ordered itusing it for more than u days now i m writing review of itreview this is the best wireless on ear headphones with great brand value i didnt find any cons sound quality bass everything is great very compactbattery pack up is awesome on standby usage using it for more than 7 dayslooks great stylish no pains on my ear must buythank youread more\n",
            "INDEX: 180, TEXT: its been a month ive been using these headphones i absolutely have no complains regarding this headphones sound quality builtwise it feels a little tighter after using it for long timebut i can deal with it thats not a issue for me what i loved the most of this product is the battery backup for those who are looking for a good battery backup just blindly go for it what disappointed me most is the mic quality i mean it literally sucks even if you talk with your highest tone of vread more\n",
            "INDEX: 181, TEXT: average product good enough for the price rangepros 1 excellent bass 2 excellent range3 excellent battery backup4 excellent ear cushions5 decent build quality6 very good volumecons 1 the mic is useless it is placed in a bad position which cannot catch voice from mouth picks up unwanted surrounding noise makes it pathetic for the person you are talking to understand anything you are saying2 a click sounds happens when playing on bluetooth especially if the voluread more\n",
            "INDEX: 183, TEXT: im writing this review after almost a year of purchase of this headphone 1 excellent budget headphone however there is no extra bass as advertised but the sound quality for a low price of 999 i bought the headphone on bbd sales is really good 2 wireless connectivity is also good along with good battery backup of the headphone3 the grip of the headphone on the head is really good even if you do sudden head movements or enjoy the music by rhythmicly bobbing your head the headread more\n",
            "INDEX: 184, TEXT: i received it after 3 days i open the box and put it on my head you know what happened nextout of my surprise sound quality was so good sound quality feels like you watching movie in theatre i wasnt knowing this headphone can perform this much better i am very glad to get this really this headphone proves tagline of boat plug into nirvanathank you boat flipkartread more\n",
            "INDEX: 185, TEXT: bought this during big billion sale for rs999 and headphones are working so far so good1 bass is not that much as mentioned and advertisedbut considering the price is good you will feel the vibrant bass in some bass boosted songs but there will no amplifiable system of bass in every song2 comfort is good some users who are new to on ear headphones will feel pain after usage but thats normal as bass only come true when headphones are stick to ears tightly thats why these headphones read more\n",
            "INDEX: 188, TEXT: ok now i will give you a detailed review of boat rockers 400 i am reviewing after 3months pros light weight it is similar to carrying a 100 pages notebook sound quality at the best level especially bass is simply superbnoise cancelation is at the top i travel by local train often i sat near the window seat and used this headphones one day i was totally amazed at its noise cancelation i am unable to hear a little bit of sound of the running traindual working mode thread more\n",
            "INDEX: 195, TEXT: i will review this product by followingsound qualityit have a good sound quality but a great bass even at maximum volume headphone starts vibrating and your ears vibrates too but as due to good bass effect those other sweet tones are supressed so if you are fan of sweet and clear music this product is little disapointed for you but if you ar fan of rock jazz ang high bass and all other music it is great for younoise cancellationwell noise cancelation is good but for listner onlyread more\n",
            "INDEX: 198, TEXT: i rate this product according to the price i got it at the price of only 999 so at the price of 999 this is ths best available bluetooth headphone in tha marketi have been using it for more than 3 months now still the battery backup is like 7 to 8 hours in full volume the audio quality is just awesome in its price range descent low and mids perfectly equalised highs and yes it perfectly fits too no uncomfortablenessread more\n",
            "INDEX: 201, TEXT: delivered in a day as promised by flipkart big ups to the service for that coming to the product i am a music producer and have used audio gear from companies like jbl skullcandy sennheiser etc nothing matches boat the balance between treble and bass in these headphones is perfect lasts over 8hrs in a charge of 2hrsstrong and durable the one downside which i could find was comfort aftr wearing it for around an hour or so the ears start to pain altho taking a break of 10read more\n",
            "INDEX: 207, TEXT: this is my first review on flipkart as this is my first purchase from them now about boat rockerz 400 wireless headphones if you want a decent 3d surrounding home theater feeling excellent clear crisp beats around you when you are in mood to listen some good music just dont think twice and obviously pick this product before the stock ends i am so glad to have this product within this price range issues about this product are minor and to be settled within few days of usage i am alsoread more\n",
            "INDEX: 216, TEXT: it is too tight and paining with in 20min of usage compatability with mobile phones is not that good i tried with zenfone pro m1 and honor view 10 mobiles volume up and down buttons not working as expected those buttons are always changing songs call clarity is actually worst i tried in almost 10 different devices voice always get disconnected only good point i see is audio quality and bass is good while listening songsread more\n",
            "INDEX: 217, TEXT: initially was thinking to return flipkart approved but i felt to keep itanywaypros1 sounds good with bit more bass but vocals are clear always depends on music or video file and which media playerex flac audio file in poweramp player hd video in dolby atoms2 battery last for 5 hrs3 charge is full in 2 hrscons1 feels tight but you can get used it2 micthats for now after 3 monthsif anything happens will postread more\n",
            "INDEX: 222, TEXT: thanks flipkart for the good packaging and safe delivery the headphone is awesome ill not say about the specs as it mentioned everything is fantastic except comfort those who listens for 3 or 4 hours it is very nice overall its a very nice choice for the listeners not for professionals also what can u expect in this price range this is awesome in this price go for it im sure youll love thisread more\n",
            "INDEX: 226, TEXT: i received a quick delivery from flipkart the headphones are light weight and foldable which makes it easy to carry sound quality is decent bluetooth connectivity is very good the only negetive aspect of this device is the call quality its terrible you can hear the other person but the microphone on this device is so poor that you wont be audible on the other end it definitely doesnt support handsfree calling i tried using the cable to call but again it didnt improve much this isread more\n",
            "INDEX: 235, TEXT: the packing of this boat headset is awesome and the quality is like beastflipkart is making a good progress in packing and quality checkingbass is fabulousand it is comfortable after using itthank you for delivering this boat headset in a super speedthis headset was ordered in 16102019 and came to my hand on 18102019keep it up flipkart for faster deliveryread more\n",
            "INDEX: 238, TEXT: headphones are awesome but you may feel some inconvenience because the headphones are too tight it may be some uncomfortable to you upto some days but coming to the sound quality its good and bass awesome when u are listening using wire its bass is high compared to the bluetooth it wont slip from your head even u are runningfinally its a good product and i will give 455 rating to itread more\n",
            "INDEX: 242, TEXT: pros1 battery last long all day2 bass is too good at this price3 you can attach cable if battery is dead4 connect so fast with bluetoothcons1 if you wear this minimum 20 minutes your ears will hurt2 sometimes it gives connection problems3 sometimes you will hear little beep sound while connected with bluetooth4 audio quality is not good its only for bass lovers you literally cant hear any vocals sometimesread more\n",
            "INDEX: 245, TEXT: worth for money but this headphones is only for people having metal ears paining after a long use the cushion 1soft arramgements should me more soft 2bluetooth range is not expected as much 3not suitable for bluetooth calling4a small dot sound is audible when we use it low volume 5whenever notification come to my phone dot sound is been produced 6better for using in aux cableread more\n",
            "INDEX: 246, TEXT: these are the best ones out thereone of the cool features is that it has a cable connection as an option handy when device runs out of batterythe voice guidance is another cool its your in thisguys blindly go for this i got everything you need and its worth every penny you have paid forthe sound is also the best in the class you will be spending hours and i am sure that you wont be finding a better 1 in this price rangeread more\n",
            "INDEX: 247, TEXT: nice one i am writing this review after a use of 4 months i didnt get any problem till date with this headphone i will definitely recommend everyone to buy this i had bought this at a very cheaper price of 1249 only thorough the flipkart itselfnice sound nice bass nice bluetooth range if kept in line to line with the headphone nice look and nice battery backup you can definitely use it contineusly for at least 4 hours the best part is that you are getting an aux cable support tooread more\n",
            "INDEX: 248, TEXT: satisfied with these headphones tell actually this headphones are base centric mids and highs lack a bit if you regularly listen to silent bollywood songs this should not be your choice but edm lover can surely purchase best for that the foam of the earpiece are soft but if you have ears a bit larger then this may hurt you you can not wear thse for more than 1 hr rest no issue range pretty goodtill 16 feet is seem less experience after than a bit loss of sounread more\n",
            "INDEX: 249, TEXT: the product is too good bass and sound clarity is superb that too with call answering option in wirelessthe best one i got from boat was looking for a wirless headset for a long timebut prize was a bit higher all the timeso i waited for the offer period luckily i got it that too for a best buy at 1199 now its almost 3kthis is mi second purchase from boat keeps the quality maintain all the timei am very satisfied with my purchaserecommended to everyone looking for both read more\n",
            "INDEX: 250, TEXT: fabolous product i got after watching so many reviews on youtube about this product i finally purchased it at 1200 inrand what i got a superlight weight accessory which delievers crisp clear sound with perfect bass balance and also the wireless conectivity and aux cable fullfill my all conditions batteru backup was same as mentioned on box ie 8 hours go blindly instead of buying jbl or moto pulsepulse max under 1500read more\n",
            "INDEX: 251, TEXT: great headset it has a fantastic bass the wireless capability is good and the battery backup is simply superb but if you are using it call please avoid it because the inbuilt mic is bad and as you all expect it is not at all comfortable and it will definitely make your ears in pain but you get so much at this price this problrm might not be serious overall its a great headphoneread more\n",
            "INDEX: 252, TEXT: awesome bass awesome sound very comfortable to my ears but there was a problem the bluetooth connection weakens frequently and you will get a jump through the lyrics for a sec while listening to songs this you can avoid but i got irritated when it occured a couple number of times and ohh the battery lasts for long enough i have returned the product might be a manufacturing defect and ordered boats wireless 600 lets see how this one goesread more\n",
            "INDEX: 253, TEXT: hi guys i recently brought these headphone and have been using it for a while now the headphones are just decent for the price range i got it for under 1000 bucks the optimal sound can be achieved through equilizer only pairing it is fairly easy battery is also decent the ear puffs are not too comfortable a little bigger and softer puffs would have been great the build quality is also fairly decent the only issue i faced was with the microphone others were not able to hear me properread more\n",
            "INDEX: 254, TEXT: this is what i wanted i got it 999 i am seriously loving this product boat team you have done exceptionally well the thump it provides in stellio along with the bass is the one to listen for i highly recommend this product kudos team boatrepeated reviewdeducted 2 stars for the pain it causes on my ear a type of headache on listening for only 15 minsguys you need to work on the structure and comfort of the headphoneshope i didnt get ruderead more\n",
            "INDEX: 258, TEXT: this headphones has awesome bass and and crystal clear music with a battery backup of 8 hours i say and confirm that these are the best headphones from 10002000 and these headphones are for bass beats that you also a small sound very clearly the envent headphones are for only acoustics that you can hear the music very deep these headphones are best for rap song listenersread more\n",
            "INDEX: 259, TEXT: i have purchased these headphones at around 1080 rs on the freedom sale of flipkart thanks for the super fast delivery as always these are the bluetooth headset with great soundbass is not that great but its ok and more importantly the battery life is awesome for bluetooth headset battery life was always concern but this is perfectin terms of batteryand also one good thing is that u can receive call as well also u will get aux cable in case u want to use with ur mobile through 35 read more\n",
            "INDEX: 269, TEXT: i am writing this review after using one weeki can happily say that this headphone is awesomesound is pretty goodbass and design is also goodand most important thing is it perfectly tight in earsthis is much worthy product at this price rangei got it only 1050 in salebut price is enough to buy this productbelieve me go for it you will never regret at this rangeread more\n",
            "INDEX: 270, TEXT: the looks and design is simply awesome of this headphone the day i received this item i was so glad but after using it i feel that the sound is flickering and hanging and this increased to the great extentand the range of the connection is not decent at all it got either disconnected or hanging at 45 meter range in a roomunfortunately you cant return this product to get refund if you want you can replace thisone thing if i had a opportunity to take decision i will go with mread more\n",
            "INDEX: 282, TEXT: my experience with this headphone is not too good at all1 speaker quality is good and so on base but after bluetooth connect when i pause and play music it had been creating distorted beep sounds and then play the music2 microphone quality of the headset that i got is too too bad other person cannot hear me properly during the phone call and they hear me as if im in a distorted sound place overall mic quality is very bad3 design is great it feels classy on headread more\n",
            "INDEX: 285, TEXT: the product is really a good product in this price range i used it for last one week and i think it gives more than 8 hours battery backup its base is very good but overall sound is good and if i talk about the design the look is excellent and the white green combination products look is really premium one another good thing is it is foldable which makes you easy to carry overall the product is really a very good product in this price rangeread more\n",
            "INDEX: 287, TEXT: kk first thing very good quality have been using it for abt a week no issues so far and the sound quality is awesome more like im in theatres also the battery backup is good i have been using it for 12 to 13 hrs straight with no connectivity issues but the only problem is that it is fits too tight and it hurts my hears due to prolong usage if possible i will give this a 45 rating i recommend that u guys go for the black ones becoz the cloth like texture will hread more\n",
            "INDEX: 294, TEXT: boat rockerz 400 sound quality is perfect bass is awesome battery life too good but u see there is a but the desgin of the headset is not good its not comfortable once u start using for 1hour ur ear starts to sweat and u feel very uncomfortable because it locks ur ear very tightly if u loosen it it wont fit on ur ears itll start slipping off overall good product in low cost but boat should have tought of the design first read more\n",
            "INDEX: 296, TEXT: the bass the sound is aswsome you will not face any issues with the sound as its bass is awesome it will feel like you are in a djparty with best woofers the bass is mindblowing but the comfort level is lottle low boat has to make it headphone in a oval shape but these are in circle thats why ypu eyes will start paing within 10 min but if you use for a month then maybe they will get loosebut boat had to make its shape in little oval style because then they are perfectly fir for ear asread more\n",
            "INDEX: 303, TEXT: this is the headphone i loved too much upto nowit has everything that i want with clear and loud sound with high connectivity of bluetooth i tried it in phone and laptop it seems perfect for my devicesthe red colour varient and classic design feels standard there we get one aux cable also which allows us to use it by wire also instead of bluetoothyou can use aux cable when charging is lowthe main factor ie battery has so long backup upto 8 hours i am surprised by this product aread more\n",
            "INDEX: 304, TEXT: good headphone in affordable pricebut it has its own limitations1 poor bluetooth connectivity means it has hardly 78 meter of range2average battery life you have to charge after every 23 hours of usageotherwise its a good headphone in this price rangereview written after 23 months of regular usage u can rely on thisalso delivery services of flipkart is awesome they delivered the product befor timeread more\n",
            "INDEX: 310, TEXT: hear lots of things about this but fact is that sound quality is really awesome and bass is excellent looks and design is perfect but yaar bass dil chu liya pubg m v buht mast kaam kar raha hai latency time is perfect few micro second that doesnt matterbut one thing when you play pubg then set volume moderate level otherwise due to high bass your ear get pain and headache too but sound quality lajawaabread more\n",
            "INDEX: 313, TEXT: bought this headphone on 16 june 2020 its been a few days ive been using it so far the battery backup is superb in this price segment while the sound and bass is crystal clear and the noise cancellation works very well a small complaint is regarding the design after wearing it for an hour the ears stars paining due to small ears caps and tight build overall a good product for people who can comprise on the ear painread more\n",
            "INDEX: 319, TEXT: genuinely replying a feedback battery backup didnt stand on my expectations hardly works for 3 and a half hour mostly i liked the colour the and the design but isnt comfortable with the cushion its too hard for ears to hold for 20 minutes i litterally not using this device rather that i would refer to buy a muve aucostics headphone in the same range but a way more comfortable cushion and by a backup of 15hours with stunning detaails of musicread more\n",
            "INDEX: 321, TEXT: battery backup is okay generally gives about 34 hrs of usage on full charge when the battery is about to die the number of times it notifies gets irritating so you wont be able to listen to anything except the notification of the battery being lowthe microphone performance is really bad it seems like you are talking from a distancethe ear pads are small it is comfortable for a use of 30 mins but if you want to use it for hours it is not good it will start hurting youthe soread more\n",
            "INDEX: 326, TEXT: the stuff is really great at this price range i am writing this review after using for a weekpros1 superb bass really super extra bass2 the sound quality is great it has great clari3 i design is awesome great to look whether while wearing or just keeping on neck4 the aux cable is a real help literally you dont need to think much about battery if it by your side5 the battery life is awesomecons1 the headband is too tight it makes it uncomfortable after a using forread more\n",
            "INDEX: 332, TEXT: writing this review after 9 days of usagethe sound quality is rich and impressive along with the bass that makes you feel that you are in the music noise cancellation is also great battery backup is excellent although i found little discomfort in the ears after 1hr or 2hr of continuous usage because the headset is a little tight overall a great headphone to consider at this price range great job done by boat and thanks to flipkartread more\n",
            "INDEX: 333, TEXT: earlobes hurt even after 1015 minutes of usagebass and loudness is good but i think one should go after overtheear models for the better feel of music and noise cancellation battery backup and the dual usage mode is especially good about this device even mic has no problems as suchbut i highly doubt the build quality and suspect it wont last long definitely cant be packed in suitcases or carry bags lest it breaks so only safe place is the neckoverall it serves the purpose bread more\n",
            "INDEX: 335, TEXT: not worth the money its not been a month and the aux cable got non functional sound quality is like the headphones that are available at the footpath markets or the electronic product seller train the battery has a strong backup u can use upto 23 days without charging cant hold for more than 20 mins in ear it cause muscler pain if you play games like pubg the by connecting through bluetooth sound effects lags timing prosbattery backupnoise cancellationconssound qualitybuilread more\n",
            "INDEX: 340, TEXT: i have been using from 6 7 months the bass is excellentit is like noise cancellation headphonesthe sound is goodbut sometimes the right one makes trouble while connecting to the bluetoothbut due to the wireprovided there is no defectit occurs only when connecting to bluetoothbut overall it is a nice and stylish headset to experience the music ignoring to the worldread more\n",
            "INDEX: 348, TEXT: good product as its price sound quality is good too but i experienced some issues after using it for few months whenever i watch a video the sound goes mute and i have to rewind the video to unmute it it gives an extra wire for the headphone along with the usb design is rocking and well built keys are okay but can be improved a little bit and battery life is good but it starts draining frequently after a little long useread more\n",
            "INDEX: 353, TEXT: after using 56 days now i m ready to say something about boat rckrs 400 the design sound qualitybass and battery backup is in super condition we use it in full day and charge it only one and half our in 24 hours product is able to give full day battery life performance if btry going to low thn dont take tnsn you will able it to use by aux cable in short this product is best in 1499 amount go for itread more\n",
            "INDEX: 376, TEXT: i loved the boat rockerz 400 the battery backup is amazing the fit is also perfect the earcups are easily adjustable and the bass is also good also love the color i liked almost everything about the headphones i wear them to the gym everyday they arent sweatproof so i have to remove them and wipe the sweat that gets accumulated in the earcups the incoming and outgoing call facility is amazing overall its a best buyread more\n",
            "INDEX: 378, TEXT: well after using it for 6 months now its worth in rs 999 sound quality is pretty good looks are also good although it was a bit tight on ears initially but now i would say it has loosened up to fit the comfort level its sound is actually good but bluetooth range is bad it looses connection once u get out of room and mic also doesnt work properly sometimes but if you are getting it for inr 1000 should go for it although can compare it with mivi headphonesread more\n",
            "INDEX: 388, TEXT: its been almost a year when i purchased thisapril 2019 it is working same from the date when i used it for first timethere one drawback so i gave 4 stars that is the mic is not very good when at a call when i play games it works awesome but when on a call the voice is not very clear from my siderest assured it is the best headphone at this price range i would tell to go for itread more\n",
            "INDEX: 391, TEXT: after 10 days of use im writing this review first of all its an amazing product from boat what an performance sound quality is awesome and bass was kick your ears build quality is good but if your wearing on your ear you will think it wil break easiley but nop its strong build quality i assurepros bass extreme battrey backup superbuild quality cool and consyou will realise your ear was paining in minutes but its only on first time then it will become comfortablei recieved read more\n",
            "INDEX: 398, TEXT: pros amazing sound quality headphonebass is outstandingi would say its boom boomdhamakabattery backup is good enoughyou can play continuously songs upto 7 to 8 hourscons aux cable should be good qualitycushions should be more comfortabledesign could be more impressiveso this is my opinion regarding this well overall it is good headphone under rs1000if purchased under any saleread more\n",
            "INDEX: 403, TEXT: this is my honest review after using it for a couple of days please do remember this before buying the headphonespros1superb bass and sound quality 2noise cancellation is superb i used them in bus and wasnt able to hear sound coming from outside3price of the product is really low for this price you wont get any other product this good4the looks are definitely awesomecons1bluetooth connectivity is poor as the bluetooth version is 21 it lags sometime and you might feel small gread more\n",
            "INDEX: 406, TEXT: its really good experience with boat rockerz good quality of sound bass is most imp thing in that headphone so easily foldable nd easily pickup on exercise or gaming time really thnx for boat company for this beautiful products nd i wish u will definitely make different headies for best heads so keep it up guys but one problem such a time face me for at a call time just a voice break nd not clear voice hear in that but next everything is good to see u read more\n",
            "INDEX: 424, TEXT: an amazing headphone under 1000 i use it mainly for gaming the and there is very minimalzero latencyyou can hear every detail in the game and is really helpful portable too the build is not the best i would say and is definitely not the lightest wireless headphone around but im confident that this is worth the moneysometimes i use it with my laptop using the 35mm cable and happy with itread more\n",
            "INDEX: 430, TEXT: i got one defective product first time then i returned it and ordered new one as the seller dont have replacement policy i was unable to hear sound from one speaker from first purchase when new one arrived i just shocked it was mind blowing super bass crystal clear sound it do work without bluetooth we can connect it through aux cable which is supplied with it also got charging cable charging cable is not up to the mark very cheap when i received the parcel original product boread more\n",
            "INDEX: 445, TEXT: writting this review after 6 months of use genuinely this sounds good but this is not very comfortable after using for 1 hours this hurts a lot its very tight to ears and they claim 6 hours of playback and its gave me around 45 hours of battery life and when it reaches 10030 it suddenly die hope this review helpful to youif planning to buy this headphone u have to compromise with the comfortread more\n",
            "INDEX: 451, TEXT: super low price for an extraordinary product bluetooth connection is quick with my samsung bass quality is really good and doesnt sound harsh the headphones are lightweight and portable it also comes with aux cable just in case if battery dies the beep sound is pretty strong if the volume is high best bluetooth headphones you can buy for the price 999rs we need more such products from boatread more\n",
            "INDEX: 456, TEXT: after using it for more than month here is a honest review sound quality bass and battery time are good but main concern is connectivity you can feel bluetooth connection issues using headphones even if your phone is in pocket specially when you are making calls they claims 10 meters range but tbh its pathetic also microphone is not efficient as it doesnt have noise cancellation so other party cant hear you properly when youre outside or surrounded good thing is it can be used inread more\n",
            "INDEX: 460, TEXT: its been 3 month im using this headphone personally im boat speaker and headphone lover im already having 2 speaker and 1 headphone for my family but this headphone really not upto the level first time im hearing the audio i didnt like the audio quality but after its ok and bass is overwhelming bcoz of that in high volume music gets distorted build quality is ok but it wont fit for everyone for me it fits ok but for my family members its not fitting well they are feeling discomforread more\n",
            "INDEX: 468, TEXT: made order on december 1 at night and got delivered at home around 1230 pm made order under flipkart pay later facility on big shopping day period dec 1 5 price was 999packing was good for mobility delivery is fast i have still next month jan 10 2020 to pay the dues 999 without any extra interest or service fee but after 10th they will charge fine for late repay and thank you flipkart for this facility boat rockers 400 is superb even in this price range 999 now it is 1read more\n",
            "INDEX: 472, TEXT: i am writing this review aftet using it 1 week super quality sound is very good but it comes out on full volumebattery backup is also very good it get charged within a hour and last upto to 68hoursnew user may feel pain in initial days but pain will not feel after some days of usefoldable with easy carrydont buy if you dont like extra bassand i got it in 999 rupees so if more than this wait for a offer and if less its your luckthank u flipkart for your super fast deliveryread more\n",
            "INDEX: 482, TEXT: i have seen this in local shop in october and i was confused which one should i buy after googling over internet i have found that boat is more popular so i bought boat rockerz 400 at 1000 rsafter that i realized it that fnd hw 110 is much much better then boati left boat rockerz to my brother and bought this product from local shop and i am happyalso i bought many product from ecommerce but this is my first reviewits a real review if you bought fnd hw110 you wont regretprread more\n",
            "INDEX: 486, TEXT: i have been using it since 2 monthsprossound quality is amazing with an awesome bassgood to listen to music and movies while travellingbluetooth connectivity is gudautoconnects once bluetooth is ongood fit around the ears which i like while joggingbattery backup is gudgood to receive cals which i was scepticalsometime the sound is not clear for the other person when still and not audible during travellingbut works fine most of the timeconsnot muchits tight fitting around thread more\n",
            "INDEX: 491, TEXT: i am writing this review after using the item for more than a monthpros1 good build2 good sound qualityi dont want to get into bass and so only little of us actually understands about it so i will say directly tell that the sound is good and smooth3 dual connection bluetoothaux cable4 long battery5 good fitthey are extendable6 easy to usethey arent difficult to usecons1 it is little bit tightfeel tight for new headphone users and feeling will be goneread more\n",
            "INDEX: 492, TEXT: this very accurate reviewthis headphone has very nice sound and bass quality you wont regret it butthe cushions for the ears on the headphones are very irritating and causes disturbanceson full bass volume after several hours of continuous usage may give headachebut overall its very awesome quality headphones as compared to other headphones in marketim glad i bought itboat is very nice company i you want to buy these go for itread more\n",
            "INDEX: 493, TEXT: fact see if you are looking for budget headphone this is the best in this rangenone jblsony phillips beats nobody has this kind of sound quality in this range fun fact even boat have made only this model which has such great dynamic sound even rest of their models even the expensive ones are not so greatbassit is like you are sitting in a car with woofers with good amount of crisp trible not like sennheiser but still pop music lovers will like iti bought it for thread more\n",
            "INDEX: 496, TEXT: this is a wonderful companion for both my phone and music this has an amazing battery life that lasts a whole day depends on use and it has good bass and sound quality is also works for calling on the go best part is it comes with an additional aux cable that always keeps me connected in case its low on its juice it feels little tight in the beginning but with time it gets acoustomed with your ears easy to carry for its foldable mechanism considering the price point its a good productread more\n"
          ]
        }
      ],
      "source": [
        "# Let's check the long tokenized sentences (with more than 80 tokens ):\n",
        "\n",
        "token_lens = []\n",
        "\n",
        "for i,txt in enumerate(df_brt['text_clean'].values):\n",
        "    tokens = tokenizer.encode(txt, max_length=512, truncation=True)\n",
        "    token_lens.append(len(tokens))\n",
        "    if len(tokens)>80:\n",
        "        print(f\"INDEX: {i}, TEXT: {txt}\")\n"
      ]
    },
    {
      "cell_type": "code",
      "execution_count": null,
      "metadata": {
        "id": "QJhb6D_1fAbA"
      },
      "outputs": [],
      "source": [
        "df_brt['token_lens'] = token_lens"
      ]
    },
    {
      "cell_type": "code",
      "execution_count": null,
      "metadata": {
        "colab": {
          "base_uri": "https://localhost:8080/",
          "height": 676
        },
        "id": "h-ljhq-6fAXq",
        "outputId": "3c15d18c-9e1a-473c-af16-52c82a6658ff"
      },
      "outputs": [
        {
          "data": {
            "text/html": [
              "\n",
              "\n",
              "  <div id=\"df-fdf59f7f-c908-4568-a8b5-acd3c1efad71\">\n",
              "    <div class=\"colab-df-container\">\n",
              "      <div>\n",
              "<style scoped>\n",
              "    .dataframe tbody tr th:only-of-type {\n",
              "        vertical-align: middle;\n",
              "    }\n",
              "\n",
              "    .dataframe tbody tr th {\n",
              "        vertical-align: top;\n",
              "    }\n",
              "\n",
              "    .dataframe thead th {\n",
              "        text-align: right;\n",
              "    }\n",
              "</style>\n",
              "<table border=\"1\" class=\"dataframe\">\n",
              "  <thead>\n",
              "    <tr style=\"text-align: right;\">\n",
              "      <th></th>\n",
              "      <th>review</th>\n",
              "      <th>rating</th>\n",
              "      <th>text_clean</th>\n",
              "      <th>text_len</th>\n",
              "      <th>token_lens</th>\n",
              "    </tr>\n",
              "  </thead>\n",
              "  <tbody>\n",
              "    <tr>\n",
              "      <th>143</th>\n",
              "      <td>The reason for choosing this one over all othe...</td>\n",
              "      <td>5</td>\n",
              "      <td>the reason for choosing this one over all othe...</td>\n",
              "      <td>91</td>\n",
              "      <td>120</td>\n",
              "    </tr>\n",
              "    <tr>\n",
              "      <th>296</th>\n",
              "      <td>The bass the sound is aswsome. You will not fa...</td>\n",
              "      <td>5</td>\n",
              "      <td>the bass the sound is aswsome you will not fac...</td>\n",
              "      <td>101</td>\n",
              "      <td>119</td>\n",
              "    </tr>\n",
              "    <tr>\n",
              "      <th>472</th>\n",
              "      <td>i am writing this review aftet using it 1 week...</td>\n",
              "      <td>5</td>\n",
              "      <td>i am writing this review aftet using it 1 week...</td>\n",
              "      <td>95</td>\n",
              "      <td>119</td>\n",
              "    </tr>\n",
              "    <tr>\n",
              "      <th>175</th>\n",
              "      <td>these are the best headphones...thanks to Flip...</td>\n",
              "      <td>5</td>\n",
              "      <td>these are the best headphonesthanks to flipkar...</td>\n",
              "      <td>78</td>\n",
              "      <td>119</td>\n",
              "    </tr>\n",
              "    <tr>\n",
              "      <th>482</th>\n",
              "      <td>I have seen this in Local Shop in October and ...</td>\n",
              "      <td>3</td>\n",
              "      <td>i have seen this in local shop in october and ...</td>\n",
              "      <td>94</td>\n",
              "      <td>117</td>\n",
              "    </tr>\n",
              "    <tr>\n",
              "      <th>89</th>\n",
              "      <td>Bought for Rs.999 on Big Billion days(Supercom...</td>\n",
              "      <td>4</td>\n",
              "      <td>bought for rs999 on big billion dayssupercomne...</td>\n",
              "      <td>85</td>\n",
              "      <td>117</td>\n",
              "    </tr>\n",
              "    <tr>\n",
              "      <th>7</th>\n",
              "      <td>Should u buy this---Pros:-1. Sound quality and...</td>\n",
              "      <td>4</td>\n",
              "      <td>should u buy thispros1 sound quality and build...</td>\n",
              "      <td>91</td>\n",
              "      <td>116</td>\n",
              "    </tr>\n",
              "    <tr>\n",
              "      <th>137</th>\n",
              "      <td>Best headphones at this price, i got it for 85...</td>\n",
              "      <td>5</td>\n",
              "      <td>best headphones at this price i got it for 850...</td>\n",
              "      <td>101</td>\n",
              "      <td>114</td>\n",
              "    </tr>\n",
              "    <tr>\n",
              "      <th>201</th>\n",
              "      <td>Delivered in a day as promised by flipkart.. B...</td>\n",
              "      <td>5</td>\n",
              "      <td>delivered in a day as promised by flipkart big...</td>\n",
              "      <td>90</td>\n",
              "      <td>113</td>\n",
              "    </tr>\n",
              "    <tr>\n",
              "      <th>107</th>\n",
              "      <td>Helo Friends,Since Boat is trending now in the...</td>\n",
              "      <td>4</td>\n",
              "      <td>helo friendssince boat is trending now in the ...</td>\n",
              "      <td>88</td>\n",
              "      <td>112</td>\n",
              "    </tr>\n",
              "    <tr>\n",
              "      <th>82</th>\n",
              "      <td>Got this headphone at just rs. 899 in offer i ...</td>\n",
              "      <td>5</td>\n",
              "      <td>got this headphone at just rs 899 in offer i c...</td>\n",
              "      <td>102</td>\n",
              "      <td>112</td>\n",
              "    </tr>\n",
              "    <tr>\n",
              "      <th>15</th>\n",
              "      <td>yes it is good in all aspect..except mic, i tr...</td>\n",
              "      <td>3</td>\n",
              "      <td>yes it is good in all aspectexcept mic i tried...</td>\n",
              "      <td>101</td>\n",
              "      <td>112</td>\n",
              "    </tr>\n",
              "    <tr>\n",
              "      <th>403</th>\n",
              "      <td>This is my honest review after using it for a ...</td>\n",
              "      <td>5</td>\n",
              "      <td>this is my honest review after using it for a ...</td>\n",
              "      <td>83</td>\n",
              "      <td>111</td>\n",
              "    </tr>\n",
              "    <tr>\n",
              "      <th>92</th>\n",
              "      <td>1.sound quality is pretty good and bass is als...</td>\n",
              "      <td>3</td>\n",
              "      <td>1sound quality is pretty good and bass is also...</td>\n",
              "      <td>83</td>\n",
              "      <td>110</td>\n",
              "    </tr>\n",
              "    <tr>\n",
              "      <th>486</th>\n",
              "      <td>I have been using it since 2 monthsPros:Sound ...</td>\n",
              "      <td>4</td>\n",
              "      <td>i have been using it since 2 monthsprossound q...</td>\n",
              "      <td>77</td>\n",
              "      <td>109</td>\n",
              "    </tr>\n",
              "    <tr>\n",
              "      <th>491</th>\n",
              "      <td>I am writing this review after using the item ...</td>\n",
              "      <td>4</td>\n",
              "      <td>i am writing this review after using the item ...</td>\n",
              "      <td>81</td>\n",
              "      <td>109</td>\n",
              "    </tr>\n",
              "    <tr>\n",
              "      <th>52</th>\n",
              "      <td>This is my honest review after 10 months of us...</td>\n",
              "      <td>5</td>\n",
              "      <td>this is my honest review after 10 months of us...</td>\n",
              "      <td>89</td>\n",
              "      <td>109</td>\n",
              "    </tr>\n",
              "    <tr>\n",
              "      <th>63</th>\n",
              "      <td>Don't buy  colour with cotton cushion  it don'...</td>\n",
              "      <td>4</td>\n",
              "      <td>dont buy colour with cotton cushion it dont lo...</td>\n",
              "      <td>88</td>\n",
              "      <td>108</td>\n",
              "    </tr>\n",
              "    <tr>\n",
              "      <th>249</th>\n",
              "      <td>The product is too good bass and sound clarity...</td>\n",
              "      <td>5</td>\n",
              "      <td>the product is too good bass and sound clarity...</td>\n",
              "      <td>91</td>\n",
              "      <td>108</td>\n",
              "    </tr>\n",
              "    <tr>\n",
              "      <th>185</th>\n",
              "      <td>Bought this during BIG BILLION SALE for Rs.999...</td>\n",
              "      <td>5</td>\n",
              "      <td>bought this during big billion sale for rs999 ...</td>\n",
              "      <td>90</td>\n",
              "      <td>108</td>\n",
              "    </tr>\n",
              "  </tbody>\n",
              "</table>\n",
              "</div>\n",
              "      <button class=\"colab-df-convert\" onclick=\"convertToInteractive('df-fdf59f7f-c908-4568-a8b5-acd3c1efad71')\"\n",
              "              title=\"Convert this dataframe to an interactive table.\"\n",
              "              style=\"display:none;\">\n",
              "\n",
              "  <svg xmlns=\"http://www.w3.org/2000/svg\" height=\"24px\"viewBox=\"0 0 24 24\"\n",
              "       width=\"24px\">\n",
              "    <path d=\"M0 0h24v24H0V0z\" fill=\"none\"/>\n",
              "    <path d=\"M18.56 5.44l.94 2.06.94-2.06 2.06-.94-2.06-.94-.94-2.06-.94 2.06-2.06.94zm-11 1L8.5 8.5l.94-2.06 2.06-.94-2.06-.94L8.5 2.5l-.94 2.06-2.06.94zm10 10l.94 2.06.94-2.06 2.06-.94-2.06-.94-.94-2.06-.94 2.06-2.06.94z\"/><path d=\"M17.41 7.96l-1.37-1.37c-.4-.4-.92-.59-1.43-.59-.52 0-1.04.2-1.43.59L10.3 9.45l-7.72 7.72c-.78.78-.78 2.05 0 2.83L4 21.41c.39.39.9.59 1.41.59.51 0 1.02-.2 1.41-.59l7.78-7.78 2.81-2.81c.8-.78.8-2.07 0-2.86zM5.41 20L4 18.59l7.72-7.72 1.47 1.35L5.41 20z\"/>\n",
              "  </svg>\n",
              "      </button>\n",
              "\n",
              "\n",
              "\n",
              "    <div id=\"df-71e21272-f774-4305-9baa-7c57bc2c88a3\">\n",
              "      <button class=\"colab-df-quickchart\" onclick=\"quickchart('df-71e21272-f774-4305-9baa-7c57bc2c88a3')\"\n",
              "              title=\"Suggest charts.\"\n",
              "              style=\"display:none;\">\n",
              "\n",
              "<svg xmlns=\"http://www.w3.org/2000/svg\" height=\"24px\"viewBox=\"0 0 24 24\"\n",
              "     width=\"24px\">\n",
              "    <g>\n",
              "        <path d=\"M19 3H5c-1.1 0-2 .9-2 2v14c0 1.1.9 2 2 2h14c1.1 0 2-.9 2-2V5c0-1.1-.9-2-2-2zM9 17H7v-7h2v7zm4 0h-2V7h2v10zm4 0h-2v-4h2v4z\"/>\n",
              "    </g>\n",
              "</svg>\n",
              "      </button>\n",
              "    </div>\n",
              "\n",
              "<style>\n",
              "  .colab-df-quickchart {\n",
              "    background-color: #E8F0FE;\n",
              "    border: none;\n",
              "    border-radius: 50%;\n",
              "    cursor: pointer;\n",
              "    display: none;\n",
              "    fill: #1967D2;\n",
              "    height: 32px;\n",
              "    padding: 0 0 0 0;\n",
              "    width: 32px;\n",
              "  }\n",
              "\n",
              "  .colab-df-quickchart:hover {\n",
              "    background-color: #E2EBFA;\n",
              "    box-shadow: 0px 1px 2px rgba(60, 64, 67, 0.3), 0px 1px 3px 1px rgba(60, 64, 67, 0.15);\n",
              "    fill: #174EA6;\n",
              "  }\n",
              "\n",
              "  [theme=dark] .colab-df-quickchart {\n",
              "    background-color: #3B4455;\n",
              "    fill: #D2E3FC;\n",
              "  }\n",
              "\n",
              "  [theme=dark] .colab-df-quickchart:hover {\n",
              "    background-color: #434B5C;\n",
              "    box-shadow: 0px 1px 3px 1px rgba(0, 0, 0, 0.15);\n",
              "    filter: drop-shadow(0px 1px 2px rgba(0, 0, 0, 0.3));\n",
              "    fill: #FFFFFF;\n",
              "  }\n",
              "</style>\n",
              "\n",
              "    <script>\n",
              "      async function quickchart(key) {\n",
              "        const containerElement = document.querySelector('#' + key);\n",
              "        const charts = await google.colab.kernel.invokeFunction(\n",
              "            'suggestCharts', [key], {});\n",
              "      }\n",
              "    </script>\n",
              "\n",
              "      <script>\n",
              "\n",
              "function displayQuickchartButton(domScope) {\n",
              "  let quickchartButtonEl =\n",
              "    domScope.querySelector('#df-71e21272-f774-4305-9baa-7c57bc2c88a3 button.colab-df-quickchart');\n",
              "  quickchartButtonEl.style.display =\n",
              "    google.colab.kernel.accessAllowed ? 'block' : 'none';\n",
              "}\n",
              "\n",
              "        displayQuickchartButton(document);\n",
              "      </script>\n",
              "      <style>\n",
              "    .colab-df-container {\n",
              "      display:flex;\n",
              "      flex-wrap:wrap;\n",
              "      gap: 12px;\n",
              "    }\n",
              "\n",
              "    .colab-df-convert {\n",
              "      background-color: #E8F0FE;\n",
              "      border: none;\n",
              "      border-radius: 50%;\n",
              "      cursor: pointer;\n",
              "      display: none;\n",
              "      fill: #1967D2;\n",
              "      height: 32px;\n",
              "      padding: 0 0 0 0;\n",
              "      width: 32px;\n",
              "    }\n",
              "\n",
              "    .colab-df-convert:hover {\n",
              "      background-color: #E2EBFA;\n",
              "      box-shadow: 0px 1px 2px rgba(60, 64, 67, 0.3), 0px 1px 3px 1px rgba(60, 64, 67, 0.15);\n",
              "      fill: #174EA6;\n",
              "    }\n",
              "\n",
              "    [theme=dark] .colab-df-convert {\n",
              "      background-color: #3B4455;\n",
              "      fill: #D2E3FC;\n",
              "    }\n",
              "\n",
              "    [theme=dark] .colab-df-convert:hover {\n",
              "      background-color: #434B5C;\n",
              "      box-shadow: 0px 1px 3px 1px rgba(0, 0, 0, 0.15);\n",
              "      filter: drop-shadow(0px 1px 2px rgba(0, 0, 0, 0.3));\n",
              "      fill: #FFFFFF;\n",
              "    }\n",
              "  </style>\n",
              "\n",
              "      <script>\n",
              "        const buttonEl =\n",
              "          document.querySelector('#df-fdf59f7f-c908-4568-a8b5-acd3c1efad71 button.colab-df-convert');\n",
              "        buttonEl.style.display =\n",
              "          google.colab.kernel.accessAllowed ? 'block' : 'none';\n",
              "\n",
              "        async function convertToInteractive(key) {\n",
              "          const element = document.querySelector('#df-fdf59f7f-c908-4568-a8b5-acd3c1efad71');\n",
              "          const dataTable =\n",
              "            await google.colab.kernel.invokeFunction('convertToInteractive',\n",
              "                                                     [key], {});\n",
              "          if (!dataTable) return;\n",
              "\n",
              "          const docLinkHtml = 'Like what you see? Visit the ' +\n",
              "            '<a target=\"_blank\" href=https://colab.research.google.com/notebooks/data_table.ipynb>data table notebook</a>'\n",
              "            + ' to learn more about interactive tables.';\n",
              "          element.innerHTML = '';\n",
              "          dataTable['output_type'] = 'display_data';\n",
              "          await google.colab.output.renderOutput(dataTable, element);\n",
              "          const docLink = document.createElement('div');\n",
              "          docLink.innerHTML = docLinkHtml;\n",
              "          element.appendChild(docLink);\n",
              "        }\n",
              "      </script>\n",
              "    </div>\n",
              "  </div>\n"
            ],
            "text/plain": [
              "                                                review  rating  \\\n",
              "143  The reason for choosing this one over all othe...       5   \n",
              "296  The bass the sound is aswsome. You will not fa...       5   \n",
              "472  i am writing this review aftet using it 1 week...       5   \n",
              "175  these are the best headphones...thanks to Flip...       5   \n",
              "482  I have seen this in Local Shop in October and ...       3   \n",
              "89   Bought for Rs.999 on Big Billion days(Supercom...       4   \n",
              "7    Should u buy this---Pros:-1. Sound quality and...       4   \n",
              "137  Best headphones at this price, i got it for 85...       5   \n",
              "201  Delivered in a day as promised by flipkart.. B...       5   \n",
              "107  Helo Friends,Since Boat is trending now in the...       4   \n",
              "82   Got this headphone at just rs. 899 in offer i ...       5   \n",
              "15   yes it is good in all aspect..except mic, i tr...       3   \n",
              "403  This is my honest review after using it for a ...       5   \n",
              "92   1.sound quality is pretty good and bass is als...       3   \n",
              "486  I have been using it since 2 monthsPros:Sound ...       4   \n",
              "491  I am writing this review after using the item ...       4   \n",
              "52   This is my honest review after 10 months of us...       5   \n",
              "63   Don't buy  colour with cotton cushion  it don'...       4   \n",
              "249  The product is too good bass and sound clarity...       5   \n",
              "185  Bought this during BIG BILLION SALE for Rs.999...       5   \n",
              "\n",
              "                                            text_clean  text_len  token_lens  \n",
              "143  the reason for choosing this one over all othe...        91         120  \n",
              "296  the bass the sound is aswsome you will not fac...       101         119  \n",
              "472  i am writing this review aftet using it 1 week...        95         119  \n",
              "175  these are the best headphonesthanks to flipkar...        78         119  \n",
              "482  i have seen this in local shop in october and ...        94         117  \n",
              "89   bought for rs999 on big billion dayssupercomne...        85         117  \n",
              "7    should u buy thispros1 sound quality and build...        91         116  \n",
              "137  best headphones at this price i got it for 850...       101         114  \n",
              "201  delivered in a day as promised by flipkart big...        90         113  \n",
              "107  helo friendssince boat is trending now in the ...        88         112  \n",
              "82   got this headphone at just rs 899 in offer i c...       102         112  \n",
              "15   yes it is good in all aspectexcept mic i tried...       101         112  \n",
              "403  this is my honest review after using it for a ...        83         111  \n",
              "92   1sound quality is pretty good and bass is also...        83         110  \n",
              "486  i have been using it since 2 monthsprossound q...        77         109  \n",
              "491  i am writing this review after using the item ...        81         109  \n",
              "52   this is my honest review after 10 months of us...        89         109  \n",
              "63   dont buy colour with cotton cushion it dont lo...        88         108  \n",
              "249  the product is too good bass and sound clarity...        91         108  \n",
              "185  bought this during big billion sale for rs999 ...        90         108  "
            ]
          },
          "execution_count": 36,
          "metadata": {},
          "output_type": "execute_result"
        }
      ],
      "source": [
        "df_brt = df_brt.sort_values(by='token_lens', ascending=False)\n",
        "df_brt.head(20)"
      ]
    },
    {
      "cell_type": "code",
      "execution_count": null,
      "metadata": {
        "id": "66sCfJnDfAUk"
      },
      "outputs": [],
      "source": [
        "# The dataset looks more clean now. We will shuffle it and reset the index.\n",
        "df_brt = df_brt.sample(frac=1).reset_index(drop=True)"
      ]
    },
    {
      "cell_type": "markdown",
      "metadata": {
        "id": "17gS6hfwfqLq"
      },
      "source": [
        "\n",
        "Sentiment column analysis\n"
      ]
    },
    {
      "cell_type": "code",
      "execution_count": null,
      "metadata": {
        "colab": {
          "base_uri": "https://localhost:8080/"
        },
        "id": "BP3ElfeKfXIC",
        "outputId": "0f191edb-e545-4f23-91cf-915f53d4155e"
      },
      "outputs": [
        {
          "data": {
            "text/plain": [
              "5    283\n",
              "4    152\n",
              "3     44\n",
              "1     15\n",
              "2      6\n",
              "Name: rating, dtype: int64"
            ]
          },
          "execution_count": 38,
          "metadata": {},
          "output_type": "execute_result"
        }
      ],
      "source": [
        "df_brt['rating'].value_counts()"
      ]
    },
    {
      "cell_type": "code",
      "execution_count": null,
      "metadata": {
        "id": "JeTxMBN1fXEi"
      },
      "outputs": [],
      "source": [
        "# We note that the three classes are imbalanced. We will proceed with oversampling the train test, to remove bias towards the majority classes.\n",
        "\n",
        "ros = RandomOverSampler()\n",
        "train_x, train_y = ros.fit_resample(np.array(df_brt['text_clean']).reshape(-1, 1), np.array(df_brt['rating']).reshape(-1, 1));\n",
        "train_os = pd.DataFrame(list(zip([x[0] for x in train_x], train_y)), columns = ['text_clean', 'rating']);"
      ]
    },
    {
      "cell_type": "code",
      "execution_count": null,
      "metadata": {
        "colab": {
          "base_uri": "https://localhost:8080/"
        },
        "id": "mmGgu2cUfXBc",
        "outputId": "e04e6f33-28dd-4d0d-e42e-fa59a6bb5fec"
      },
      "outputs": [
        {
          "data": {
            "text/plain": [
              "5    283\n",
              "4    283\n",
              "3    283\n",
              "2    283\n",
              "1    283\n",
              "Name: rating, dtype: int64"
            ]
          },
          "execution_count": 40,
          "metadata": {},
          "output_type": "execute_result"
        }
      ],
      "source": [
        "train_os['rating'].value_counts()"
      ]
    },
    {
      "cell_type": "code",
      "execution_count": null,
      "metadata": {
        "id": "5wdFzCFGfhrp"
      },
      "outputs": [],
      "source": [
        "X = train_os['text_clean'].values\n",
        "y = train_os['rating'].values"
      ]
    },
    {
      "cell_type": "code",
      "execution_count": null,
      "metadata": {
        "colab": {
          "base_uri": "https://localhost:8080/"
        },
        "id": "JnBOb0XGokDF",
        "outputId": "a076f4d9-e385-4ed9-acc0-c81d997c8126"
      },
      "outputs": [
        {
          "data": {
            "text/plain": [
              "(1415,)"
            ]
          },
          "execution_count": 42,
          "metadata": {},
          "output_type": "execute_result"
        }
      ],
      "source": [
        "X.shape"
      ]
    },
    {
      "cell_type": "code",
      "execution_count": null,
      "metadata": {
        "id": "f79o4KLLfhoh"
      },
      "outputs": [],
      "source": [
        "X_train, X_valid, y_train, y_valid = train_test_split(X, y, test_size=0.1, stratify=y, random_state=seed)"
      ]
    },
    {
      "cell_type": "code",
      "execution_count": null,
      "metadata": {
        "colab": {
          "base_uri": "https://localhost:8080/"
        },
        "id": "XaO9g6zlmwwF",
        "outputId": "87737e5b-070a-4c62-b871-64c4fe7773b8"
      },
      "outputs": [
        {
          "data": {
            "text/plain": [
              "((1273,), (142,), (142,), (1273,))"
            ]
          },
          "execution_count": 44,
          "metadata": {},
          "output_type": "execute_result"
        }
      ],
      "source": [
        "y_train.shape, y_valid.shape,X_valid.shape,X_train.shape"
      ]
    },
    {
      "cell_type": "code",
      "execution_count": null,
      "metadata": {
        "id": "N5mvRRbkgkmA"
      },
      "outputs": [],
      "source": [
        "# One hot encoding. by using one hot encoding on the target variable we achieved higher accuracy.\n",
        "\n",
        "y_train_le = y_train.copy()\n",
        "y_valid_le = y_valid.copy()\n",
        "# y_test_le = y_test.copy()"
      ]
    },
    {
      "cell_type": "code",
      "execution_count": null,
      "metadata": {
        "id": "kGb3Lpqigkiy"
      },
      "outputs": [],
      "source": [
        "ohe = preprocessing.OneHotEncoder()\n",
        "y_train = ohe.fit_transform(np.array(y_train).reshape(-1, 1)).toarray()\n",
        "y_valid = ohe.fit_transform(np.array(y_valid).reshape(-1, 1)).toarray()\n",
        "# y_test = ohe.fit_transform(np.array(y_test).reshape(-1, 1)).toarray()"
      ]
    },
    {
      "cell_type": "code",
      "execution_count": null,
      "metadata": {
        "colab": {
          "base_uri": "https://localhost:8080/"
        },
        "id": "L2peXAt2gkfb",
        "outputId": "c9dba43f-eccc-463c-ef24-e2fde86cd7d5"
      },
      "outputs": [
        {
          "name": "stdout",
          "output_type": "stream",
          "text": [
            "TRAINING DATA: 1273\n",
            "VALIDATION DATA: 142\n",
            "\n"
          ]
        }
      ],
      "source": [
        "print(f\"TRAINING DATA: {X_train.shape[0]}\\nVALIDATION DATA: {X_valid.shape[0]}\\n\" )"
      ]
    },
    {
      "cell_type": "code",
      "execution_count": null,
      "metadata": {
        "id": "6BiRYcH7gkcP"
      },
      "outputs": [],
      "source": [
        "MAX_LEN=128\n",
        "\n",
        "def tokenize(data,max_len=MAX_LEN) :\n",
        "    input_ids = []\n",
        "    attention_masks = []\n",
        "    for i in range(len(data)):\n",
        "        encoded = tokenizer.encode_plus(\n",
        "            data[i],\n",
        "            add_special_tokens=True,\n",
        "            max_length=MAX_LEN,\n",
        "            padding='max_length',\n",
        "            return_attention_mask=True\n",
        "        )\n",
        "        input_ids.append(encoded['input_ids'])\n",
        "        attention_masks.append(encoded['attention_mask'])\n",
        "    return np.array(input_ids),np.array(attention_masks)"
      ]
    },
    {
      "cell_type": "code",
      "execution_count": null,
      "metadata": {
        "id": "YP5aT-ShhBPl"
      },
      "outputs": [],
      "source": [
        "train_input_ids, train_attention_masks = tokenize(X_train, MAX_LEN)\n",
        "val_input_ids, val_attention_masks = tokenize(X_valid, MAX_LEN)\n",
        "# test_input_ids, test_attention_masks = tokenize(X_test, MAX_LEN)"
      ]
    },
    {
      "cell_type": "code",
      "execution_count": null,
      "metadata": {
        "colab": {
          "base_uri": "https://localhost:8080/"
        },
        "id": "Xe3Sg-uypF5Q",
        "outputId": "8ba1c369-2e98-428a-d2cd-4aadb05e8f4a"
      },
      "outputs": [
        {
          "data": {
            "text/plain": [
              "(142, 128)"
            ]
          },
          "execution_count": 50,
          "metadata": {},
          "output_type": "execute_result"
        }
      ],
      "source": [
        "val_input_ids.shape"
      ]
    },
    {
      "cell_type": "code",
      "execution_count": null,
      "metadata": {
        "colab": {
          "base_uri": "https://localhost:8080/",
          "height": 156,
          "referenced_widgets": [
            "037e44a680714cc687706716aac433c0",
            "ab360ed2fb4a466c99368826221efa70",
            "407f80b401d646f4904a1c012fce0aa4",
            "c4d9ba5173a549d7b733b06a794f6aa7",
            "8e9b771c826a4c4bb5f34a6b54b9d5cc",
            "f92945dc8a7943d7b16b93f1e5caf81a",
            "68c8a039929941288ebffdfd06bda6f7",
            "a40985673107462c874a8679386496be",
            "0f0f4aea53ab40c598d21d981fb907b4",
            "f059f91fca1a41bd86be6d289420a1c0",
            "38a126a79e494d66b6e0a874fb75fa91"
          ]
        },
        "id": "S4POU5TzhBMK",
        "outputId": "d6f90740-f4ac-4a32-fb12-1d52e2fb86a8"
      },
      "outputs": [
        {
          "data": {
            "application/vnd.jupyter.widget-view+json": {
              "model_id": "037e44a680714cc687706716aac433c0",
              "version_major": 2,
              "version_minor": 0
            },
            "text/plain": [
              "Downloading model.safetensors:   0%|          | 0.00/440M [00:00<?, ?B/s]"
            ]
          },
          "metadata": {},
          "output_type": "display_data"
        },
        {
          "name": "stderr",
          "output_type": "stream",
          "text": [
            "Some weights of the PyTorch model were not used when initializing the TF 2.0 model TFBertModel: ['cls.predictions.transform.dense.bias', 'cls.predictions.transform.dense.weight', 'cls.predictions.bias', 'cls.seq_relationship.weight', 'cls.seq_relationship.bias', 'cls.predictions.transform.LayerNorm.weight', 'cls.predictions.transform.LayerNorm.bias']\n",
            "- This IS expected if you are initializing TFBertModel from a PyTorch model trained on another task or with another architecture (e.g. initializing a TFBertForSequenceClassification model from a BertForPreTraining model).\n",
            "- This IS NOT expected if you are initializing TFBertModel from a PyTorch model that you expect to be exactly identical (e.g. initializing a TFBertForSequenceClassification model from a BertForSequenceClassification model).\n",
            "All the weights of TFBertModel were initialized from the PyTorch model.\n",
            "If your task is similar to the task the model of the checkpoint was trained on, you can already use TFBertModel for predictions without further training.\n"
          ]
        }
      ],
      "source": [
        "bert_model = TFBertModel.from_pretrained('bert-base-uncased')"
      ]
    },
    {
      "cell_type": "code",
      "execution_count": null,
      "metadata": {
        "id": "eDLagQrXhBI4"
      },
      "outputs": [],
      "source": [
        "def create_model(bert_model, max_len=MAX_LEN):\n",
        "\n",
        "    ##params###\n",
        "    opt = tf.keras.optimizers.legacy.Adam(learning_rate=1e-5, decay=1e-7)\n",
        "    loss = tf.keras.losses.CategoricalCrossentropy()\n",
        "    accuracy = tf.keras.metrics.CategoricalAccuracy()\n",
        "\n",
        "\n",
        "    input_ids = tf.keras.Input(shape=(max_len,),dtype='int32')\n",
        "\n",
        "    attention_masks = tf.keras.Input(shape=(max_len,),dtype='int32')\n",
        "\n",
        "    embeddings = bert_model([input_ids,attention_masks])[1]\n",
        "\n",
        "    output = tf.keras.layers.Dense(5, activation=\"softmax\")(embeddings)\n",
        "\n",
        "    model = tf.keras.models.Model(inputs = [input_ids,attention_masks], outputs = output)\n",
        "\n",
        "    model.compile(opt, loss=loss, metrics=accuracy)\n",
        "\n",
        "    return model\n",
        "\n"
      ]
    },
    {
      "cell_type": "code",
      "execution_count": null,
      "metadata": {
        "colab": {
          "base_uri": "https://localhost:8080/"
        },
        "id": "B4LWMkBchoQR",
        "outputId": "68b6c9e9-c8c2-4b37-9519-ee279fff7e4e"
      },
      "outputs": [
        {
          "name": "stdout",
          "output_type": "stream",
          "text": [
            "Model: \"model\"\n",
            "__________________________________________________________________________________________________\n",
            " Layer (type)                   Output Shape         Param #     Connected to                     \n",
            "==================================================================================================\n",
            " input_1 (InputLayer)           [(None, 128)]        0           []                               \n",
            "                                                                                                  \n",
            " input_2 (InputLayer)           [(None, 128)]        0           []                               \n",
            "                                                                                                  \n",
            " tf_bert_model (TFBertModel)    TFBaseModelOutputWi  109482240   ['input_1[0][0]',                \n",
            "                                thPoolingAndCrossAt               'input_2[0][0]']                \n",
            "                                tentions(last_hidde                                               \n",
            "                                n_state=(None, 128,                                               \n",
            "                                 768),                                                            \n",
            "                                 pooler_output=(Non                                               \n",
            "                                e, 768),                                                          \n",
            "                                 past_key_values=No                                               \n",
            "                                ne, hidden_states=N                                               \n",
            "                                one, attentions=Non                                               \n",
            "                                e, cross_attentions                                               \n",
            "                                =None)                                                            \n",
            "                                                                                                  \n",
            " dense (Dense)                  (None, 5)            3845        ['tf_bert_model[0][1]']          \n",
            "                                                                                                  \n",
            "==================================================================================================\n",
            "Total params: 109,486,085\n",
            "Trainable params: 109,486,085\n",
            "Non-trainable params: 0\n",
            "__________________________________________________________________________________________________\n"
          ]
        }
      ],
      "source": [
        "model1 = create_model(bert_model, MAX_LEN)\n",
        "model1.summary()"
      ]
    },
    {
      "cell_type": "code",
      "execution_count": null,
      "metadata": {
        "id": "GRiLnsy1i2be"
      },
      "outputs": [],
      "source": [
        "train_input_ids.shape"
      ]
    },
    {
      "cell_type": "code",
      "execution_count": null,
      "metadata": {
        "colab": {
          "base_uri": "https://localhost:8080/"
        },
        "id": "C9O3dMHAl2eF",
        "outputId": "76e29930-d513-4e7b-ef6e-0ef1c394583c"
      },
      "outputs": [
        {
          "data": {
            "text/plain": [
              "((1273, 5), (142, 5))"
            ]
          },
          "execution_count": 55,
          "metadata": {},
          "output_type": "execute_result"
        }
      ],
      "source": [
        "y_train.shape, y_valid.shape"
      ]
    },
    {
      "cell_type": "code",
      "execution_count": null,
      "metadata": {
        "colab": {
          "background_save": true,
          "base_uri": "https://localhost:8080/"
        },
        "id": "5XmdbHb2hoMz",
        "outputId": "7611ead0-62c2-46a2-b42b-3c24e1724ca3"
      },
      "outputs": [
        {
          "name": "stdout",
          "output_type": "stream",
          "text": [
            "Epoch 1/2\n",
            " 9/40 [=====>........................] - ETA: 29:46 - loss: 1.6310 - categorical_accuracy: 0.2431"
          ]
        }
      ],
      "source": [
        "history_bert = model1.fit([train_input_ids,train_attention_masks], y_train, validation_data=([val_input_ids, val_attention_masks],y_valid), epochs=2, batch_size=32)\n",
        "\n",
        "# history = model.fit(X_train, y_train, epochs=30,validation_data=(X_valid,y_valid),batch_size=100,verbose=1,shuffle=1)"
      ]
    },
    {
      "cell_type": "code",
      "execution_count": null,
      "metadata": {
        "id": "WNdQ6zxKhoJh"
      },
      "outputs": [],
      "source": [
        "# BERT results\n",
        "\n",
        "result_bert1 = model1.predict([val_input_ids, val_attention_masks])"
      ]
    },
    {
      "cell_type": "code",
      "execution_count": null,
      "metadata": {
        "id": "gMNsJe0fW_P4"
      },
      "outputs": [],
      "source": [
        "y_pred_bert1 =  np.zeros_like(result_bert1)\n",
        "y_pred_bert1[np.arange(len(y_pred_bert1)), result_bert1.argmax(1)] = 1"
      ]
    },
    {
      "cell_type": "code",
      "execution_count": null,
      "metadata": {
        "id": "O9OEqxCRX8Zl"
      },
      "outputs": [],
      "source": [
        "#metrics\n",
        "from sklearn.metrics import accuracy_score, f1_score\n",
        "from sklearn.metrics import classification_report, confusion_matrix"
      ]
    },
    {
      "cell_type": "code",
      "execution_count": null,
      "metadata": {
        "id": "85c1XlkxYKxD"
      },
      "outputs": [],
      "source": [
        "def conf_matrix(y, y_pred, title):\n",
        "    fig, ax =plt.subplots(figsize=(5,5))\n",
        "    labels=[1,2,3,4,5]\n",
        "    ax=sns.heatmap(confusion_matrix(y, y_pred), annot=True, cmap=\"Blues\", fmt='g', cbar=False, annot_kws={\"size\":25})\n",
        "    plt.title(title, fontsize=20)\n",
        "    ax.xaxis.set_ticklabels(labels, fontsize=17)\n",
        "    ax.yaxis.set_ticklabels(labels, fontsize=17)\n",
        "    ax.set_ylabel('Test', fontsize=20)\n",
        "    ax.set_xlabel('Predicted', fontsize=20)\n",
        "    plt.show()"
      ]
    },
    {
      "cell_type": "code",
      "execution_count": null,
      "metadata": {
        "id": "At0DVjxPXDT9"
      },
      "outputs": [],
      "source": [
        "conf_matrix(y_valid.argmax(1), y_pred_bert1.argmax(1),'BERT Sentiment Analysis\\nConfusion Matrix')"
      ]
    },
    {
      "cell_type": "code",
      "execution_count": null,
      "metadata": {
        "id": "FsOv7cYsXen0"
      },
      "outputs": [],
      "source": [
        "print('\\tClassification Report for BERT:\\n\\n',classification_report(y_valid,y_pred_bert1))"
      ]
    },
    {
      "cell_type": "code",
      "execution_count": null,
      "metadata": {
        "id": "0_7xrjk9Ypk7"
      },
      "outputs": [],
      "source": [
        "accuracy = accuracy_score(y_valid, y_pred_bert1)\n",
        "print('Accuracy: %.3f' % (accuracy * 100))"
      ]
    },
    {
      "cell_type": "code",
      "execution_count": null,
      "metadata": {
        "id": "99TPhi7uYphF"
      },
      "outputs": [],
      "source": [
        "..............END......................."
      ]
    },
    {
      "cell_type": "code",
      "execution_count": null,
      "metadata": {
        "id": "YnpNJOQQUvrs"
      },
      "outputs": [],
      "source": []
    }
  ],
  "metadata": {
    "colab": {
      "provenance": []
    },
    "kernelspec": {
      "display_name": "Python 3",
      "name": "python3"
    },
    "language_info": {
      "name": "python"
    },
    "widgets": {
      "application/vnd.jupyter.widget-state+json": {
        "037e44a680714cc687706716aac433c0": {
          "model_module": "@jupyter-widgets/controls",
          "model_module_version": "1.5.0",
          "model_name": "HBoxModel",
          "state": {
            "_dom_classes": [],
            "_model_module": "@jupyter-widgets/controls",
            "_model_module_version": "1.5.0",
            "_model_name": "HBoxModel",
            "_view_count": null,
            "_view_module": "@jupyter-widgets/controls",
            "_view_module_version": "1.5.0",
            "_view_name": "HBoxView",
            "box_style": "",
            "children": [
              "IPY_MODEL_ab360ed2fb4a466c99368826221efa70",
              "IPY_MODEL_407f80b401d646f4904a1c012fce0aa4",
              "IPY_MODEL_c4d9ba5173a549d7b733b06a794f6aa7"
            ],
            "layout": "IPY_MODEL_8e9b771c826a4c4bb5f34a6b54b9d5cc"
          }
        },
        "05caa285a96b4cd993965386175043b8": {
          "model_module": "@jupyter-widgets/base",
          "model_module_version": "1.2.0",
          "model_name": "LayoutModel",
          "state": {
            "_model_module": "@jupyter-widgets/base",
            "_model_module_version": "1.2.0",
            "_model_name": "LayoutModel",
            "_view_count": null,
            "_view_module": "@jupyter-widgets/base",
            "_view_module_version": "1.2.0",
            "_view_name": "LayoutView",
            "align_content": null,
            "align_items": null,
            "align_self": null,
            "border": null,
            "bottom": null,
            "display": null,
            "flex": null,
            "flex_flow": null,
            "grid_area": null,
            "grid_auto_columns": null,
            "grid_auto_flow": null,
            "grid_auto_rows": null,
            "grid_column": null,
            "grid_gap": null,
            "grid_row": null,
            "grid_template_areas": null,
            "grid_template_columns": null,
            "grid_template_rows": null,
            "height": null,
            "justify_content": null,
            "justify_items": null,
            "left": null,
            "margin": null,
            "max_height": null,
            "max_width": null,
            "min_height": null,
            "min_width": null,
            "object_fit": null,
            "object_position": null,
            "order": null,
            "overflow": null,
            "overflow_x": null,
            "overflow_y": null,
            "padding": null,
            "right": null,
            "top": null,
            "visibility": null,
            "width": null
          }
        },
        "097288f06d494120abe9759214c263c8": {
          "model_module": "@jupyter-widgets/base",
          "model_module_version": "1.2.0",
          "model_name": "LayoutModel",
          "state": {
            "_model_module": "@jupyter-widgets/base",
            "_model_module_version": "1.2.0",
            "_model_name": "LayoutModel",
            "_view_count": null,
            "_view_module": "@jupyter-widgets/base",
            "_view_module_version": "1.2.0",
            "_view_name": "LayoutView",
            "align_content": null,
            "align_items": null,
            "align_self": null,
            "border": null,
            "bottom": null,
            "display": null,
            "flex": null,
            "flex_flow": null,
            "grid_area": null,
            "grid_auto_columns": null,
            "grid_auto_flow": null,
            "grid_auto_rows": null,
            "grid_column": null,
            "grid_gap": null,
            "grid_row": null,
            "grid_template_areas": null,
            "grid_template_columns": null,
            "grid_template_rows": null,
            "height": null,
            "justify_content": null,
            "justify_items": null,
            "left": null,
            "margin": null,
            "max_height": null,
            "max_width": null,
            "min_height": null,
            "min_width": null,
            "object_fit": null,
            "object_position": null,
            "order": null,
            "overflow": null,
            "overflow_x": null,
            "overflow_y": null,
            "padding": null,
            "right": null,
            "top": null,
            "visibility": null,
            "width": null
          }
        },
        "0b3733e8d8774afb974e4789efc80d2a": {
          "model_module": "@jupyter-widgets/controls",
          "model_module_version": "1.5.0",
          "model_name": "DescriptionStyleModel",
          "state": {
            "_model_module": "@jupyter-widgets/controls",
            "_model_module_version": "1.5.0",
            "_model_name": "DescriptionStyleModel",
            "_view_count": null,
            "_view_module": "@jupyter-widgets/base",
            "_view_module_version": "1.2.0",
            "_view_name": "StyleView",
            "description_width": ""
          }
        },
        "0f0f4aea53ab40c598d21d981fb907b4": {
          "model_module": "@jupyter-widgets/controls",
          "model_module_version": "1.5.0",
          "model_name": "ProgressStyleModel",
          "state": {
            "_model_module": "@jupyter-widgets/controls",
            "_model_module_version": "1.5.0",
            "_model_name": "ProgressStyleModel",
            "_view_count": null,
            "_view_module": "@jupyter-widgets/base",
            "_view_module_version": "1.2.0",
            "_view_name": "StyleView",
            "bar_color": null,
            "description_width": ""
          }
        },
        "156ce377bf4e431a8905b8741d0f7295": {
          "model_module": "@jupyter-widgets/base",
          "model_module_version": "1.2.0",
          "model_name": "LayoutModel",
          "state": {
            "_model_module": "@jupyter-widgets/base",
            "_model_module_version": "1.2.0",
            "_model_name": "LayoutModel",
            "_view_count": null,
            "_view_module": "@jupyter-widgets/base",
            "_view_module_version": "1.2.0",
            "_view_name": "LayoutView",
            "align_content": null,
            "align_items": null,
            "align_self": null,
            "border": null,
            "bottom": null,
            "display": null,
            "flex": null,
            "flex_flow": null,
            "grid_area": null,
            "grid_auto_columns": null,
            "grid_auto_flow": null,
            "grid_auto_rows": null,
            "grid_column": null,
            "grid_gap": null,
            "grid_row": null,
            "grid_template_areas": null,
            "grid_template_columns": null,
            "grid_template_rows": null,
            "height": null,
            "justify_content": null,
            "justify_items": null,
            "left": null,
            "margin": null,
            "max_height": null,
            "max_width": null,
            "min_height": null,
            "min_width": null,
            "object_fit": null,
            "object_position": null,
            "order": null,
            "overflow": null,
            "overflow_x": null,
            "overflow_y": null,
            "padding": null,
            "right": null,
            "top": null,
            "visibility": null,
            "width": null
          }
        },
        "1b3399564d98433f847cd9b1f460aae8": {
          "model_module": "@jupyter-widgets/controls",
          "model_module_version": "1.5.0",
          "model_name": "DescriptionStyleModel",
          "state": {
            "_model_module": "@jupyter-widgets/controls",
            "_model_module_version": "1.5.0",
            "_model_name": "DescriptionStyleModel",
            "_view_count": null,
            "_view_module": "@jupyter-widgets/base",
            "_view_module_version": "1.2.0",
            "_view_name": "StyleView",
            "description_width": ""
          }
        },
        "226ea248cfd741c189b1b0c847ca52cf": {
          "model_module": "@jupyter-widgets/controls",
          "model_module_version": "1.5.0",
          "model_name": "FloatProgressModel",
          "state": {
            "_dom_classes": [],
            "_model_module": "@jupyter-widgets/controls",
            "_model_module_version": "1.5.0",
            "_model_name": "FloatProgressModel",
            "_view_count": null,
            "_view_module": "@jupyter-widgets/controls",
            "_view_module_version": "1.5.0",
            "_view_name": "ProgressView",
            "bar_style": "success",
            "description": "",
            "description_tooltip": null,
            "layout": "IPY_MODEL_5f08794c453a430981f2972ac9d56e62",
            "max": 466062,
            "min": 0,
            "orientation": "horizontal",
            "style": "IPY_MODEL_8e3aae7f4720416cbb0ffaa929d5dc99",
            "value": 466062
          }
        },
        "25f5b8b1149e4b358cc70229262d57c1": {
          "model_module": "@jupyter-widgets/controls",
          "model_module_version": "1.5.0",
          "model_name": "HTMLModel",
          "state": {
            "_dom_classes": [],
            "_model_module": "@jupyter-widgets/controls",
            "_model_module_version": "1.5.0",
            "_model_name": "HTMLModel",
            "_view_count": null,
            "_view_module": "@jupyter-widgets/controls",
            "_view_module_version": "1.5.0",
            "_view_name": "HTMLView",
            "description": "",
            "description_tooltip": null,
            "layout": "IPY_MODEL_36669fa5a01c4892b5526522359b82e4",
            "placeholder": "​",
            "style": "IPY_MODEL_318a71a4e04d44b193c7a1632aa955dc",
            "value": "Downloading (…)okenizer_config.json: 100%"
          }
        },
        "318a71a4e04d44b193c7a1632aa955dc": {
          "model_module": "@jupyter-widgets/controls",
          "model_module_version": "1.5.0",
          "model_name": "DescriptionStyleModel",
          "state": {
            "_model_module": "@jupyter-widgets/controls",
            "_model_module_version": "1.5.0",
            "_model_name": "DescriptionStyleModel",
            "_view_count": null,
            "_view_module": "@jupyter-widgets/base",
            "_view_module_version": "1.2.0",
            "_view_name": "StyleView",
            "description_width": ""
          }
        },
        "34f0bd9b112448638f8e689454100d83": {
          "model_module": "@jupyter-widgets/base",
          "model_module_version": "1.2.0",
          "model_name": "LayoutModel",
          "state": {
            "_model_module": "@jupyter-widgets/base",
            "_model_module_version": "1.2.0",
            "_model_name": "LayoutModel",
            "_view_count": null,
            "_view_module": "@jupyter-widgets/base",
            "_view_module_version": "1.2.0",
            "_view_name": "LayoutView",
            "align_content": null,
            "align_items": null,
            "align_self": null,
            "border": null,
            "bottom": null,
            "display": null,
            "flex": null,
            "flex_flow": null,
            "grid_area": null,
            "grid_auto_columns": null,
            "grid_auto_flow": null,
            "grid_auto_rows": null,
            "grid_column": null,
            "grid_gap": null,
            "grid_row": null,
            "grid_template_areas": null,
            "grid_template_columns": null,
            "grid_template_rows": null,
            "height": null,
            "justify_content": null,
            "justify_items": null,
            "left": null,
            "margin": null,
            "max_height": null,
            "max_width": null,
            "min_height": null,
            "min_width": null,
            "object_fit": null,
            "object_position": null,
            "order": null,
            "overflow": null,
            "overflow_x": null,
            "overflow_y": null,
            "padding": null,
            "right": null,
            "top": null,
            "visibility": null,
            "width": null
          }
        },
        "36669fa5a01c4892b5526522359b82e4": {
          "model_module": "@jupyter-widgets/base",
          "model_module_version": "1.2.0",
          "model_name": "LayoutModel",
          "state": {
            "_model_module": "@jupyter-widgets/base",
            "_model_module_version": "1.2.0",
            "_model_name": "LayoutModel",
            "_view_count": null,
            "_view_module": "@jupyter-widgets/base",
            "_view_module_version": "1.2.0",
            "_view_name": "LayoutView",
            "align_content": null,
            "align_items": null,
            "align_self": null,
            "border": null,
            "bottom": null,
            "display": null,
            "flex": null,
            "flex_flow": null,
            "grid_area": null,
            "grid_auto_columns": null,
            "grid_auto_flow": null,
            "grid_auto_rows": null,
            "grid_column": null,
            "grid_gap": null,
            "grid_row": null,
            "grid_template_areas": null,
            "grid_template_columns": null,
            "grid_template_rows": null,
            "height": null,
            "justify_content": null,
            "justify_items": null,
            "left": null,
            "margin": null,
            "max_height": null,
            "max_width": null,
            "min_height": null,
            "min_width": null,
            "object_fit": null,
            "object_position": null,
            "order": null,
            "overflow": null,
            "overflow_x": null,
            "overflow_y": null,
            "padding": null,
            "right": null,
            "top": null,
            "visibility": null,
            "width": null
          }
        },
        "37eddd5069a0442da4c3ba8c207f744d": {
          "model_module": "@jupyter-widgets/controls",
          "model_module_version": "1.5.0",
          "model_name": "ProgressStyleModel",
          "state": {
            "_model_module": "@jupyter-widgets/controls",
            "_model_module_version": "1.5.0",
            "_model_name": "ProgressStyleModel",
            "_view_count": null,
            "_view_module": "@jupyter-widgets/base",
            "_view_module_version": "1.2.0",
            "_view_name": "StyleView",
            "bar_color": null,
            "description_width": ""
          }
        },
        "38411734b77a4cd8a5684689079402bb": {
          "model_module": "@jupyter-widgets/base",
          "model_module_version": "1.2.0",
          "model_name": "LayoutModel",
          "state": {
            "_model_module": "@jupyter-widgets/base",
            "_model_module_version": "1.2.0",
            "_model_name": "LayoutModel",
            "_view_count": null,
            "_view_module": "@jupyter-widgets/base",
            "_view_module_version": "1.2.0",
            "_view_name": "LayoutView",
            "align_content": null,
            "align_items": null,
            "align_self": null,
            "border": null,
            "bottom": null,
            "display": null,
            "flex": null,
            "flex_flow": null,
            "grid_area": null,
            "grid_auto_columns": null,
            "grid_auto_flow": null,
            "grid_auto_rows": null,
            "grid_column": null,
            "grid_gap": null,
            "grid_row": null,
            "grid_template_areas": null,
            "grid_template_columns": null,
            "grid_template_rows": null,
            "height": null,
            "justify_content": null,
            "justify_items": null,
            "left": null,
            "margin": null,
            "max_height": null,
            "max_width": null,
            "min_height": null,
            "min_width": null,
            "object_fit": null,
            "object_position": null,
            "order": null,
            "overflow": null,
            "overflow_x": null,
            "overflow_y": null,
            "padding": null,
            "right": null,
            "top": null,
            "visibility": null,
            "width": null
          }
        },
        "38a126a79e494d66b6e0a874fb75fa91": {
          "model_module": "@jupyter-widgets/controls",
          "model_module_version": "1.5.0",
          "model_name": "DescriptionStyleModel",
          "state": {
            "_model_module": "@jupyter-widgets/controls",
            "_model_module_version": "1.5.0",
            "_model_name": "DescriptionStyleModel",
            "_view_count": null,
            "_view_module": "@jupyter-widgets/base",
            "_view_module_version": "1.2.0",
            "_view_name": "StyleView",
            "description_width": ""
          }
        },
        "407f80b401d646f4904a1c012fce0aa4": {
          "model_module": "@jupyter-widgets/controls",
          "model_module_version": "1.5.0",
          "model_name": "FloatProgressModel",
          "state": {
            "_dom_classes": [],
            "_model_module": "@jupyter-widgets/controls",
            "_model_module_version": "1.5.0",
            "_model_name": "FloatProgressModel",
            "_view_count": null,
            "_view_module": "@jupyter-widgets/controls",
            "_view_module_version": "1.5.0",
            "_view_name": "ProgressView",
            "bar_style": "success",
            "description": "",
            "description_tooltip": null,
            "layout": "IPY_MODEL_a40985673107462c874a8679386496be",
            "max": 440449768,
            "min": 0,
            "orientation": "horizontal",
            "style": "IPY_MODEL_0f0f4aea53ab40c598d21d981fb907b4",
            "value": 440449768
          }
        },
        "4199ec72771b4d9e88e1db3da8f6d4c4": {
          "model_module": "@jupyter-widgets/base",
          "model_module_version": "1.2.0",
          "model_name": "LayoutModel",
          "state": {
            "_model_module": "@jupyter-widgets/base",
            "_model_module_version": "1.2.0",
            "_model_name": "LayoutModel",
            "_view_count": null,
            "_view_module": "@jupyter-widgets/base",
            "_view_module_version": "1.2.0",
            "_view_name": "LayoutView",
            "align_content": null,
            "align_items": null,
            "align_self": null,
            "border": null,
            "bottom": null,
            "display": null,
            "flex": null,
            "flex_flow": null,
            "grid_area": null,
            "grid_auto_columns": null,
            "grid_auto_flow": null,
            "grid_auto_rows": null,
            "grid_column": null,
            "grid_gap": null,
            "grid_row": null,
            "grid_template_areas": null,
            "grid_template_columns": null,
            "grid_template_rows": null,
            "height": null,
            "justify_content": null,
            "justify_items": null,
            "left": null,
            "margin": null,
            "max_height": null,
            "max_width": null,
            "min_height": null,
            "min_width": null,
            "object_fit": null,
            "object_position": null,
            "order": null,
            "overflow": null,
            "overflow_x": null,
            "overflow_y": null,
            "padding": null,
            "right": null,
            "top": null,
            "visibility": null,
            "width": null
          }
        },
        "4698d9659a6a4a05b8a81fb3f313c2bf": {
          "model_module": "@jupyter-widgets/base",
          "model_module_version": "1.2.0",
          "model_name": "LayoutModel",
          "state": {
            "_model_module": "@jupyter-widgets/base",
            "_model_module_version": "1.2.0",
            "_model_name": "LayoutModel",
            "_view_count": null,
            "_view_module": "@jupyter-widgets/base",
            "_view_module_version": "1.2.0",
            "_view_name": "LayoutView",
            "align_content": null,
            "align_items": null,
            "align_self": null,
            "border": null,
            "bottom": null,
            "display": null,
            "flex": null,
            "flex_flow": null,
            "grid_area": null,
            "grid_auto_columns": null,
            "grid_auto_flow": null,
            "grid_auto_rows": null,
            "grid_column": null,
            "grid_gap": null,
            "grid_row": null,
            "grid_template_areas": null,
            "grid_template_columns": null,
            "grid_template_rows": null,
            "height": null,
            "justify_content": null,
            "justify_items": null,
            "left": null,
            "margin": null,
            "max_height": null,
            "max_width": null,
            "min_height": null,
            "min_width": null,
            "object_fit": null,
            "object_position": null,
            "order": null,
            "overflow": null,
            "overflow_x": null,
            "overflow_y": null,
            "padding": null,
            "right": null,
            "top": null,
            "visibility": null,
            "width": null
          }
        },
        "4c5d92ba4e8f416498ef663be634dabd": {
          "model_module": "@jupyter-widgets/controls",
          "model_module_version": "1.5.0",
          "model_name": "HBoxModel",
          "state": {
            "_dom_classes": [],
            "_model_module": "@jupyter-widgets/controls",
            "_model_module_version": "1.5.0",
            "_model_name": "HBoxModel",
            "_view_count": null,
            "_view_module": "@jupyter-widgets/controls",
            "_view_module_version": "1.5.0",
            "_view_name": "HBoxView",
            "box_style": "",
            "children": [
              "IPY_MODEL_769b78f4dd8542b8896a9f34d246358e",
              "IPY_MODEL_226ea248cfd741c189b1b0c847ca52cf",
              "IPY_MODEL_5462d8a66a154d5c884530a248ffa3bf"
            ],
            "layout": "IPY_MODEL_34f0bd9b112448638f8e689454100d83"
          }
        },
        "4cb1261e62f14087b5c87448ed03da79": {
          "model_module": "@jupyter-widgets/controls",
          "model_module_version": "1.5.0",
          "model_name": "ProgressStyleModel",
          "state": {
            "_model_module": "@jupyter-widgets/controls",
            "_model_module_version": "1.5.0",
            "_model_name": "ProgressStyleModel",
            "_view_count": null,
            "_view_module": "@jupyter-widgets/base",
            "_view_module_version": "1.2.0",
            "_view_name": "StyleView",
            "bar_color": null,
            "description_width": ""
          }
        },
        "4ea1b3b2dcc34e588dd31c9e882442c7": {
          "model_module": "@jupyter-widgets/controls",
          "model_module_version": "1.5.0",
          "model_name": "FloatProgressModel",
          "state": {
            "_dom_classes": [],
            "_model_module": "@jupyter-widgets/controls",
            "_model_module_version": "1.5.0",
            "_model_name": "FloatProgressModel",
            "_view_count": null,
            "_view_module": "@jupyter-widgets/controls",
            "_view_module_version": "1.5.0",
            "_view_name": "ProgressView",
            "bar_style": "success",
            "description": "",
            "description_tooltip": null,
            "layout": "IPY_MODEL_f6b03be4d8834ef1a08b6f865ae10a06",
            "max": 231508,
            "min": 0,
            "orientation": "horizontal",
            "style": "IPY_MODEL_53f276a8472b46019a12327f948c5af2",
            "value": 231508
          }
        },
        "51b731157e294312a54cca4947357360": {
          "model_module": "@jupyter-widgets/controls",
          "model_module_version": "1.5.0",
          "model_name": "HTMLModel",
          "state": {
            "_dom_classes": [],
            "_model_module": "@jupyter-widgets/controls",
            "_model_module_version": "1.5.0",
            "_model_name": "HTMLModel",
            "_view_count": null,
            "_view_module": "@jupyter-widgets/controls",
            "_view_module_version": "1.5.0",
            "_view_name": "HTMLView",
            "description": "",
            "description_tooltip": null,
            "layout": "IPY_MODEL_53bf36e6b1204cfba04b8e7134490dc0",
            "placeholder": "​",
            "style": "IPY_MODEL_1b3399564d98433f847cd9b1f460aae8",
            "value": " 570/570 [00:00&lt;00:00, 37.9kB/s]"
          }
        },
        "53bf36e6b1204cfba04b8e7134490dc0": {
          "model_module": "@jupyter-widgets/base",
          "model_module_version": "1.2.0",
          "model_name": "LayoutModel",
          "state": {
            "_model_module": "@jupyter-widgets/base",
            "_model_module_version": "1.2.0",
            "_model_name": "LayoutModel",
            "_view_count": null,
            "_view_module": "@jupyter-widgets/base",
            "_view_module_version": "1.2.0",
            "_view_name": "LayoutView",
            "align_content": null,
            "align_items": null,
            "align_self": null,
            "border": null,
            "bottom": null,
            "display": null,
            "flex": null,
            "flex_flow": null,
            "grid_area": null,
            "grid_auto_columns": null,
            "grid_auto_flow": null,
            "grid_auto_rows": null,
            "grid_column": null,
            "grid_gap": null,
            "grid_row": null,
            "grid_template_areas": null,
            "grid_template_columns": null,
            "grid_template_rows": null,
            "height": null,
            "justify_content": null,
            "justify_items": null,
            "left": null,
            "margin": null,
            "max_height": null,
            "max_width": null,
            "min_height": null,
            "min_width": null,
            "object_fit": null,
            "object_position": null,
            "order": null,
            "overflow": null,
            "overflow_x": null,
            "overflow_y": null,
            "padding": null,
            "right": null,
            "top": null,
            "visibility": null,
            "width": null
          }
        },
        "53f276a8472b46019a12327f948c5af2": {
          "model_module": "@jupyter-widgets/controls",
          "model_module_version": "1.5.0",
          "model_name": "ProgressStyleModel",
          "state": {
            "_model_module": "@jupyter-widgets/controls",
            "_model_module_version": "1.5.0",
            "_model_name": "ProgressStyleModel",
            "_view_count": null,
            "_view_module": "@jupyter-widgets/base",
            "_view_module_version": "1.2.0",
            "_view_name": "StyleView",
            "bar_color": null,
            "description_width": ""
          }
        },
        "5462d8a66a154d5c884530a248ffa3bf": {
          "model_module": "@jupyter-widgets/controls",
          "model_module_version": "1.5.0",
          "model_name": "HTMLModel",
          "state": {
            "_dom_classes": [],
            "_model_module": "@jupyter-widgets/controls",
            "_model_module_version": "1.5.0",
            "_model_name": "HTMLModel",
            "_view_count": null,
            "_view_module": "@jupyter-widgets/controls",
            "_view_module_version": "1.5.0",
            "_view_name": "HTMLView",
            "description": "",
            "description_tooltip": null,
            "layout": "IPY_MODEL_93b4bca4047b4fe08246abe6f7d4a4ca",
            "placeholder": "​",
            "style": "IPY_MODEL_0b3733e8d8774afb974e4789efc80d2a",
            "value": " 466k/466k [00:00&lt;00:00, 2.90MB/s]"
          }
        },
        "5a79baa4acc4407a90b5b9317c95870c": {
          "model_module": "@jupyter-widgets/base",
          "model_module_version": "1.2.0",
          "model_name": "LayoutModel",
          "state": {
            "_model_module": "@jupyter-widgets/base",
            "_model_module_version": "1.2.0",
            "_model_name": "LayoutModel",
            "_view_count": null,
            "_view_module": "@jupyter-widgets/base",
            "_view_module_version": "1.2.0",
            "_view_name": "LayoutView",
            "align_content": null,
            "align_items": null,
            "align_self": null,
            "border": null,
            "bottom": null,
            "display": null,
            "flex": null,
            "flex_flow": null,
            "grid_area": null,
            "grid_auto_columns": null,
            "grid_auto_flow": null,
            "grid_auto_rows": null,
            "grid_column": null,
            "grid_gap": null,
            "grid_row": null,
            "grid_template_areas": null,
            "grid_template_columns": null,
            "grid_template_rows": null,
            "height": null,
            "justify_content": null,
            "justify_items": null,
            "left": null,
            "margin": null,
            "max_height": null,
            "max_width": null,
            "min_height": null,
            "min_width": null,
            "object_fit": null,
            "object_position": null,
            "order": null,
            "overflow": null,
            "overflow_x": null,
            "overflow_y": null,
            "padding": null,
            "right": null,
            "top": null,
            "visibility": null,
            "width": null
          }
        },
        "5f08794c453a430981f2972ac9d56e62": {
          "model_module": "@jupyter-widgets/base",
          "model_module_version": "1.2.0",
          "model_name": "LayoutModel",
          "state": {
            "_model_module": "@jupyter-widgets/base",
            "_model_module_version": "1.2.0",
            "_model_name": "LayoutModel",
            "_view_count": null,
            "_view_module": "@jupyter-widgets/base",
            "_view_module_version": "1.2.0",
            "_view_name": "LayoutView",
            "align_content": null,
            "align_items": null,
            "align_self": null,
            "border": null,
            "bottom": null,
            "display": null,
            "flex": null,
            "flex_flow": null,
            "grid_area": null,
            "grid_auto_columns": null,
            "grid_auto_flow": null,
            "grid_auto_rows": null,
            "grid_column": null,
            "grid_gap": null,
            "grid_row": null,
            "grid_template_areas": null,
            "grid_template_columns": null,
            "grid_template_rows": null,
            "height": null,
            "justify_content": null,
            "justify_items": null,
            "left": null,
            "margin": null,
            "max_height": null,
            "max_width": null,
            "min_height": null,
            "min_width": null,
            "object_fit": null,
            "object_position": null,
            "order": null,
            "overflow": null,
            "overflow_x": null,
            "overflow_y": null,
            "padding": null,
            "right": null,
            "top": null,
            "visibility": null,
            "width": null
          }
        },
        "6016ac1f43e846d892c15f1cb4549fc7": {
          "model_module": "@jupyter-widgets/base",
          "model_module_version": "1.2.0",
          "model_name": "LayoutModel",
          "state": {
            "_model_module": "@jupyter-widgets/base",
            "_model_module_version": "1.2.0",
            "_model_name": "LayoutModel",
            "_view_count": null,
            "_view_module": "@jupyter-widgets/base",
            "_view_module_version": "1.2.0",
            "_view_name": "LayoutView",
            "align_content": null,
            "align_items": null,
            "align_self": null,
            "border": null,
            "bottom": null,
            "display": null,
            "flex": null,
            "flex_flow": null,
            "grid_area": null,
            "grid_auto_columns": null,
            "grid_auto_flow": null,
            "grid_auto_rows": null,
            "grid_column": null,
            "grid_gap": null,
            "grid_row": null,
            "grid_template_areas": null,
            "grid_template_columns": null,
            "grid_template_rows": null,
            "height": null,
            "justify_content": null,
            "justify_items": null,
            "left": null,
            "margin": null,
            "max_height": null,
            "max_width": null,
            "min_height": null,
            "min_width": null,
            "object_fit": null,
            "object_position": null,
            "order": null,
            "overflow": null,
            "overflow_x": null,
            "overflow_y": null,
            "padding": null,
            "right": null,
            "top": null,
            "visibility": null,
            "width": null
          }
        },
        "68c8a039929941288ebffdfd06bda6f7": {
          "model_module": "@jupyter-widgets/controls",
          "model_module_version": "1.5.0",
          "model_name": "DescriptionStyleModel",
          "state": {
            "_model_module": "@jupyter-widgets/controls",
            "_model_module_version": "1.5.0",
            "_model_name": "DescriptionStyleModel",
            "_view_count": null,
            "_view_module": "@jupyter-widgets/base",
            "_view_module_version": "1.2.0",
            "_view_name": "StyleView",
            "description_width": ""
          }
        },
        "6baf9ef572aa4506bb06dcd992b0c35d": {
          "model_module": "@jupyter-widgets/base",
          "model_module_version": "1.2.0",
          "model_name": "LayoutModel",
          "state": {
            "_model_module": "@jupyter-widgets/base",
            "_model_module_version": "1.2.0",
            "_model_name": "LayoutModel",
            "_view_count": null,
            "_view_module": "@jupyter-widgets/base",
            "_view_module_version": "1.2.0",
            "_view_name": "LayoutView",
            "align_content": null,
            "align_items": null,
            "align_self": null,
            "border": null,
            "bottom": null,
            "display": null,
            "flex": null,
            "flex_flow": null,
            "grid_area": null,
            "grid_auto_columns": null,
            "grid_auto_flow": null,
            "grid_auto_rows": null,
            "grid_column": null,
            "grid_gap": null,
            "grid_row": null,
            "grid_template_areas": null,
            "grid_template_columns": null,
            "grid_template_rows": null,
            "height": null,
            "justify_content": null,
            "justify_items": null,
            "left": null,
            "margin": null,
            "max_height": null,
            "max_width": null,
            "min_height": null,
            "min_width": null,
            "object_fit": null,
            "object_position": null,
            "order": null,
            "overflow": null,
            "overflow_x": null,
            "overflow_y": null,
            "padding": null,
            "right": null,
            "top": null,
            "visibility": null,
            "width": null
          }
        },
        "6f7852f5f995424287383a272d2ea372": {
          "model_module": "@jupyter-widgets/controls",
          "model_module_version": "1.5.0",
          "model_name": "DescriptionStyleModel",
          "state": {
            "_model_module": "@jupyter-widgets/controls",
            "_model_module_version": "1.5.0",
            "_model_name": "DescriptionStyleModel",
            "_view_count": null,
            "_view_module": "@jupyter-widgets/base",
            "_view_module_version": "1.2.0",
            "_view_name": "StyleView",
            "description_width": ""
          }
        },
        "769b78f4dd8542b8896a9f34d246358e": {
          "model_module": "@jupyter-widgets/controls",
          "model_module_version": "1.5.0",
          "model_name": "HTMLModel",
          "state": {
            "_dom_classes": [],
            "_model_module": "@jupyter-widgets/controls",
            "_model_module_version": "1.5.0",
            "_model_name": "HTMLModel",
            "_view_count": null,
            "_view_module": "@jupyter-widgets/controls",
            "_view_module_version": "1.5.0",
            "_view_name": "HTMLView",
            "description": "",
            "description_tooltip": null,
            "layout": "IPY_MODEL_097288f06d494120abe9759214c263c8",
            "placeholder": "​",
            "style": "IPY_MODEL_6f7852f5f995424287383a272d2ea372",
            "value": "Downloading (…)/main/tokenizer.json: 100%"
          }
        },
        "86c049b4af0c4f349eebefc95cf7e441": {
          "model_module": "@jupyter-widgets/controls",
          "model_module_version": "1.5.0",
          "model_name": "DescriptionStyleModel",
          "state": {
            "_model_module": "@jupyter-widgets/controls",
            "_model_module_version": "1.5.0",
            "_model_name": "DescriptionStyleModel",
            "_view_count": null,
            "_view_module": "@jupyter-widgets/base",
            "_view_module_version": "1.2.0",
            "_view_name": "StyleView",
            "description_width": ""
          }
        },
        "8e3aae7f4720416cbb0ffaa929d5dc99": {
          "model_module": "@jupyter-widgets/controls",
          "model_module_version": "1.5.0",
          "model_name": "ProgressStyleModel",
          "state": {
            "_model_module": "@jupyter-widgets/controls",
            "_model_module_version": "1.5.0",
            "_model_name": "ProgressStyleModel",
            "_view_count": null,
            "_view_module": "@jupyter-widgets/base",
            "_view_module_version": "1.2.0",
            "_view_name": "StyleView",
            "bar_color": null,
            "description_width": ""
          }
        },
        "8e9b771c826a4c4bb5f34a6b54b9d5cc": {
          "model_module": "@jupyter-widgets/base",
          "model_module_version": "1.2.0",
          "model_name": "LayoutModel",
          "state": {
            "_model_module": "@jupyter-widgets/base",
            "_model_module_version": "1.2.0",
            "_model_name": "LayoutModel",
            "_view_count": null,
            "_view_module": "@jupyter-widgets/base",
            "_view_module_version": "1.2.0",
            "_view_name": "LayoutView",
            "align_content": null,
            "align_items": null,
            "align_self": null,
            "border": null,
            "bottom": null,
            "display": null,
            "flex": null,
            "flex_flow": null,
            "grid_area": null,
            "grid_auto_columns": null,
            "grid_auto_flow": null,
            "grid_auto_rows": null,
            "grid_column": null,
            "grid_gap": null,
            "grid_row": null,
            "grid_template_areas": null,
            "grid_template_columns": null,
            "grid_template_rows": null,
            "height": null,
            "justify_content": null,
            "justify_items": null,
            "left": null,
            "margin": null,
            "max_height": null,
            "max_width": null,
            "min_height": null,
            "min_width": null,
            "object_fit": null,
            "object_position": null,
            "order": null,
            "overflow": null,
            "overflow_x": null,
            "overflow_y": null,
            "padding": null,
            "right": null,
            "top": null,
            "visibility": null,
            "width": null
          }
        },
        "93b4bca4047b4fe08246abe6f7d4a4ca": {
          "model_module": "@jupyter-widgets/base",
          "model_module_version": "1.2.0",
          "model_name": "LayoutModel",
          "state": {
            "_model_module": "@jupyter-widgets/base",
            "_model_module_version": "1.2.0",
            "_model_name": "LayoutModel",
            "_view_count": null,
            "_view_module": "@jupyter-widgets/base",
            "_view_module_version": "1.2.0",
            "_view_name": "LayoutView",
            "align_content": null,
            "align_items": null,
            "align_self": null,
            "border": null,
            "bottom": null,
            "display": null,
            "flex": null,
            "flex_flow": null,
            "grid_area": null,
            "grid_auto_columns": null,
            "grid_auto_flow": null,
            "grid_auto_rows": null,
            "grid_column": null,
            "grid_gap": null,
            "grid_row": null,
            "grid_template_areas": null,
            "grid_template_columns": null,
            "grid_template_rows": null,
            "height": null,
            "justify_content": null,
            "justify_items": null,
            "left": null,
            "margin": null,
            "max_height": null,
            "max_width": null,
            "min_height": null,
            "min_width": null,
            "object_fit": null,
            "object_position": null,
            "order": null,
            "overflow": null,
            "overflow_x": null,
            "overflow_y": null,
            "padding": null,
            "right": null,
            "top": null,
            "visibility": null,
            "width": null
          }
        },
        "a40985673107462c874a8679386496be": {
          "model_module": "@jupyter-widgets/base",
          "model_module_version": "1.2.0",
          "model_name": "LayoutModel",
          "state": {
            "_model_module": "@jupyter-widgets/base",
            "_model_module_version": "1.2.0",
            "_model_name": "LayoutModel",
            "_view_count": null,
            "_view_module": "@jupyter-widgets/base",
            "_view_module_version": "1.2.0",
            "_view_name": "LayoutView",
            "align_content": null,
            "align_items": null,
            "align_self": null,
            "border": null,
            "bottom": null,
            "display": null,
            "flex": null,
            "flex_flow": null,
            "grid_area": null,
            "grid_auto_columns": null,
            "grid_auto_flow": null,
            "grid_auto_rows": null,
            "grid_column": null,
            "grid_gap": null,
            "grid_row": null,
            "grid_template_areas": null,
            "grid_template_columns": null,
            "grid_template_rows": null,
            "height": null,
            "justify_content": null,
            "justify_items": null,
            "left": null,
            "margin": null,
            "max_height": null,
            "max_width": null,
            "min_height": null,
            "min_width": null,
            "object_fit": null,
            "object_position": null,
            "order": null,
            "overflow": null,
            "overflow_x": null,
            "overflow_y": null,
            "padding": null,
            "right": null,
            "top": null,
            "visibility": null,
            "width": null
          }
        },
        "a768df1b5594467c85381e8de64d63b5": {
          "model_module": "@jupyter-widgets/controls",
          "model_module_version": "1.5.0",
          "model_name": "HBoxModel",
          "state": {
            "_dom_classes": [],
            "_model_module": "@jupyter-widgets/controls",
            "_model_module_version": "1.5.0",
            "_model_name": "HBoxModel",
            "_view_count": null,
            "_view_module": "@jupyter-widgets/controls",
            "_view_module_version": "1.5.0",
            "_view_name": "HBoxView",
            "box_style": "",
            "children": [
              "IPY_MODEL_a906a3ce767d44afa8bd803809956b31",
              "IPY_MODEL_cac2771792c448d4bebf3aa1a6cf36e1",
              "IPY_MODEL_51b731157e294312a54cca4947357360"
            ],
            "layout": "IPY_MODEL_ed1940bdd0ca41d59b024f758e57b287"
          }
        },
        "a906a3ce767d44afa8bd803809956b31": {
          "model_module": "@jupyter-widgets/controls",
          "model_module_version": "1.5.0",
          "model_name": "HTMLModel",
          "state": {
            "_dom_classes": [],
            "_model_module": "@jupyter-widgets/controls",
            "_model_module_version": "1.5.0",
            "_model_name": "HTMLModel",
            "_view_count": null,
            "_view_module": "@jupyter-widgets/controls",
            "_view_module_version": "1.5.0",
            "_view_name": "HTMLView",
            "description": "",
            "description_tooltip": null,
            "layout": "IPY_MODEL_6baf9ef572aa4506bb06dcd992b0c35d",
            "placeholder": "​",
            "style": "IPY_MODEL_b369c1b3919143b59156670e3deefdfb",
            "value": "Downloading (…)lve/main/config.json: 100%"
          }
        },
        "a9206aa2a68144c2bbd69f5398560ac1": {
          "model_module": "@jupyter-widgets/controls",
          "model_module_version": "1.5.0",
          "model_name": "DescriptionStyleModel",
          "state": {
            "_model_module": "@jupyter-widgets/controls",
            "_model_module_version": "1.5.0",
            "_model_name": "DescriptionStyleModel",
            "_view_count": null,
            "_view_module": "@jupyter-widgets/base",
            "_view_module_version": "1.2.0",
            "_view_name": "StyleView",
            "description_width": ""
          }
        },
        "ab360ed2fb4a466c99368826221efa70": {
          "model_module": "@jupyter-widgets/controls",
          "model_module_version": "1.5.0",
          "model_name": "HTMLModel",
          "state": {
            "_dom_classes": [],
            "_model_module": "@jupyter-widgets/controls",
            "_model_module_version": "1.5.0",
            "_model_name": "HTMLModel",
            "_view_count": null,
            "_view_module": "@jupyter-widgets/controls",
            "_view_module_version": "1.5.0",
            "_view_name": "HTMLView",
            "description": "",
            "description_tooltip": null,
            "layout": "IPY_MODEL_f92945dc8a7943d7b16b93f1e5caf81a",
            "placeholder": "​",
            "style": "IPY_MODEL_68c8a039929941288ebffdfd06bda6f7",
            "value": "Downloading model.safetensors: 100%"
          }
        },
        "b369c1b3919143b59156670e3deefdfb": {
          "model_module": "@jupyter-widgets/controls",
          "model_module_version": "1.5.0",
          "model_name": "DescriptionStyleModel",
          "state": {
            "_model_module": "@jupyter-widgets/controls",
            "_model_module_version": "1.5.0",
            "_model_name": "DescriptionStyleModel",
            "_view_count": null,
            "_view_module": "@jupyter-widgets/base",
            "_view_module_version": "1.2.0",
            "_view_name": "StyleView",
            "description_width": ""
          }
        },
        "c4d9ba5173a549d7b733b06a794f6aa7": {
          "model_module": "@jupyter-widgets/controls",
          "model_module_version": "1.5.0",
          "model_name": "HTMLModel",
          "state": {
            "_dom_classes": [],
            "_model_module": "@jupyter-widgets/controls",
            "_model_module_version": "1.5.0",
            "_model_name": "HTMLModel",
            "_view_count": null,
            "_view_module": "@jupyter-widgets/controls",
            "_view_module_version": "1.5.0",
            "_view_name": "HTMLView",
            "description": "",
            "description_tooltip": null,
            "layout": "IPY_MODEL_f059f91fca1a41bd86be6d289420a1c0",
            "placeholder": "​",
            "style": "IPY_MODEL_38a126a79e494d66b6e0a874fb75fa91",
            "value": " 440M/440M [00:05&lt;00:00, 78.9MB/s]"
          }
        },
        "c790a7c9eb3e45509db1547862a4d1a6": {
          "model_module": "@jupyter-widgets/controls",
          "model_module_version": "1.5.0",
          "model_name": "DescriptionStyleModel",
          "state": {
            "_model_module": "@jupyter-widgets/controls",
            "_model_module_version": "1.5.0",
            "_model_name": "DescriptionStyleModel",
            "_view_count": null,
            "_view_module": "@jupyter-widgets/base",
            "_view_module_version": "1.2.0",
            "_view_name": "StyleView",
            "description_width": ""
          }
        },
        "cac2771792c448d4bebf3aa1a6cf36e1": {
          "model_module": "@jupyter-widgets/controls",
          "model_module_version": "1.5.0",
          "model_name": "FloatProgressModel",
          "state": {
            "_dom_classes": [],
            "_model_module": "@jupyter-widgets/controls",
            "_model_module_version": "1.5.0",
            "_model_name": "FloatProgressModel",
            "_view_count": null,
            "_view_module": "@jupyter-widgets/controls",
            "_view_module_version": "1.5.0",
            "_view_name": "ProgressView",
            "bar_style": "success",
            "description": "",
            "description_tooltip": null,
            "layout": "IPY_MODEL_156ce377bf4e431a8905b8741d0f7295",
            "max": 570,
            "min": 0,
            "orientation": "horizontal",
            "style": "IPY_MODEL_4cb1261e62f14087b5c87448ed03da79",
            "value": 570
          }
        },
        "d3137882fcff4d7b8acc23425f635c68": {
          "model_module": "@jupyter-widgets/controls",
          "model_module_version": "1.5.0",
          "model_name": "HBoxModel",
          "state": {
            "_dom_classes": [],
            "_model_module": "@jupyter-widgets/controls",
            "_model_module_version": "1.5.0",
            "_model_name": "HBoxModel",
            "_view_count": null,
            "_view_module": "@jupyter-widgets/controls",
            "_view_module_version": "1.5.0",
            "_view_name": "HBoxView",
            "box_style": "",
            "children": [
              "IPY_MODEL_db8c3cdaa958495e941ee674ebf08a71",
              "IPY_MODEL_4ea1b3b2dcc34e588dd31c9e882442c7",
              "IPY_MODEL_ec9327d7a6454044b3e549475d23324a"
            ],
            "layout": "IPY_MODEL_05caa285a96b4cd993965386175043b8"
          }
        },
        "db8c3cdaa958495e941ee674ebf08a71": {
          "model_module": "@jupyter-widgets/controls",
          "model_module_version": "1.5.0",
          "model_name": "HTMLModel",
          "state": {
            "_dom_classes": [],
            "_model_module": "@jupyter-widgets/controls",
            "_model_module_version": "1.5.0",
            "_model_name": "HTMLModel",
            "_view_count": null,
            "_view_module": "@jupyter-widgets/controls",
            "_view_module_version": "1.5.0",
            "_view_name": "HTMLView",
            "description": "",
            "description_tooltip": null,
            "layout": "IPY_MODEL_4199ec72771b4d9e88e1db3da8f6d4c4",
            "placeholder": "​",
            "style": "IPY_MODEL_a9206aa2a68144c2bbd69f5398560ac1",
            "value": "Downloading (…)solve/main/vocab.txt: 100%"
          }
        },
        "e5602857cdf94001adfc537ded41b330": {
          "model_module": "@jupyter-widgets/controls",
          "model_module_version": "1.5.0",
          "model_name": "HBoxModel",
          "state": {
            "_dom_classes": [],
            "_model_module": "@jupyter-widgets/controls",
            "_model_module_version": "1.5.0",
            "_model_name": "HBoxModel",
            "_view_count": null,
            "_view_module": "@jupyter-widgets/controls",
            "_view_module_version": "1.5.0",
            "_view_name": "HBoxView",
            "box_style": "",
            "children": [
              "IPY_MODEL_25f5b8b1149e4b358cc70229262d57c1",
              "IPY_MODEL_ff5d65a669784257b8523ed6ab09175d",
              "IPY_MODEL_f6338e35170047f28fe5b46ec2e8de1d"
            ],
            "layout": "IPY_MODEL_4698d9659a6a4a05b8a81fb3f313c2bf"
          }
        },
        "ec9327d7a6454044b3e549475d23324a": {
          "model_module": "@jupyter-widgets/controls",
          "model_module_version": "1.5.0",
          "model_name": "HTMLModel",
          "state": {
            "_dom_classes": [],
            "_model_module": "@jupyter-widgets/controls",
            "_model_module_version": "1.5.0",
            "_model_name": "HTMLModel",
            "_view_count": null,
            "_view_module": "@jupyter-widgets/controls",
            "_view_module_version": "1.5.0",
            "_view_name": "HTMLView",
            "description": "",
            "description_tooltip": null,
            "layout": "IPY_MODEL_6016ac1f43e846d892c15f1cb4549fc7",
            "placeholder": "​",
            "style": "IPY_MODEL_c790a7c9eb3e45509db1547862a4d1a6",
            "value": " 232k/232k [00:00&lt;00:00, 1.40MB/s]"
          }
        },
        "ed1940bdd0ca41d59b024f758e57b287": {
          "model_module": "@jupyter-widgets/base",
          "model_module_version": "1.2.0",
          "model_name": "LayoutModel",
          "state": {
            "_model_module": "@jupyter-widgets/base",
            "_model_module_version": "1.2.0",
            "_model_name": "LayoutModel",
            "_view_count": null,
            "_view_module": "@jupyter-widgets/base",
            "_view_module_version": "1.2.0",
            "_view_name": "LayoutView",
            "align_content": null,
            "align_items": null,
            "align_self": null,
            "border": null,
            "bottom": null,
            "display": null,
            "flex": null,
            "flex_flow": null,
            "grid_area": null,
            "grid_auto_columns": null,
            "grid_auto_flow": null,
            "grid_auto_rows": null,
            "grid_column": null,
            "grid_gap": null,
            "grid_row": null,
            "grid_template_areas": null,
            "grid_template_columns": null,
            "grid_template_rows": null,
            "height": null,
            "justify_content": null,
            "justify_items": null,
            "left": null,
            "margin": null,
            "max_height": null,
            "max_width": null,
            "min_height": null,
            "min_width": null,
            "object_fit": null,
            "object_position": null,
            "order": null,
            "overflow": null,
            "overflow_x": null,
            "overflow_y": null,
            "padding": null,
            "right": null,
            "top": null,
            "visibility": null,
            "width": null
          }
        },
        "f059f91fca1a41bd86be6d289420a1c0": {
          "model_module": "@jupyter-widgets/base",
          "model_module_version": "1.2.0",
          "model_name": "LayoutModel",
          "state": {
            "_model_module": "@jupyter-widgets/base",
            "_model_module_version": "1.2.0",
            "_model_name": "LayoutModel",
            "_view_count": null,
            "_view_module": "@jupyter-widgets/base",
            "_view_module_version": "1.2.0",
            "_view_name": "LayoutView",
            "align_content": null,
            "align_items": null,
            "align_self": null,
            "border": null,
            "bottom": null,
            "display": null,
            "flex": null,
            "flex_flow": null,
            "grid_area": null,
            "grid_auto_columns": null,
            "grid_auto_flow": null,
            "grid_auto_rows": null,
            "grid_column": null,
            "grid_gap": null,
            "grid_row": null,
            "grid_template_areas": null,
            "grid_template_columns": null,
            "grid_template_rows": null,
            "height": null,
            "justify_content": null,
            "justify_items": null,
            "left": null,
            "margin": null,
            "max_height": null,
            "max_width": null,
            "min_height": null,
            "min_width": null,
            "object_fit": null,
            "object_position": null,
            "order": null,
            "overflow": null,
            "overflow_x": null,
            "overflow_y": null,
            "padding": null,
            "right": null,
            "top": null,
            "visibility": null,
            "width": null
          }
        },
        "f6338e35170047f28fe5b46ec2e8de1d": {
          "model_module": "@jupyter-widgets/controls",
          "model_module_version": "1.5.0",
          "model_name": "HTMLModel",
          "state": {
            "_dom_classes": [],
            "_model_module": "@jupyter-widgets/controls",
            "_model_module_version": "1.5.0",
            "_model_name": "HTMLModel",
            "_view_count": null,
            "_view_module": "@jupyter-widgets/controls",
            "_view_module_version": "1.5.0",
            "_view_name": "HTMLView",
            "description": "",
            "description_tooltip": null,
            "layout": "IPY_MODEL_38411734b77a4cd8a5684689079402bb",
            "placeholder": "​",
            "style": "IPY_MODEL_86c049b4af0c4f349eebefc95cf7e441",
            "value": " 28.0/28.0 [00:00&lt;00:00, 1.63kB/s]"
          }
        },
        "f6b03be4d8834ef1a08b6f865ae10a06": {
          "model_module": "@jupyter-widgets/base",
          "model_module_version": "1.2.0",
          "model_name": "LayoutModel",
          "state": {
            "_model_module": "@jupyter-widgets/base",
            "_model_module_version": "1.2.0",
            "_model_name": "LayoutModel",
            "_view_count": null,
            "_view_module": "@jupyter-widgets/base",
            "_view_module_version": "1.2.0",
            "_view_name": "LayoutView",
            "align_content": null,
            "align_items": null,
            "align_self": null,
            "border": null,
            "bottom": null,
            "display": null,
            "flex": null,
            "flex_flow": null,
            "grid_area": null,
            "grid_auto_columns": null,
            "grid_auto_flow": null,
            "grid_auto_rows": null,
            "grid_column": null,
            "grid_gap": null,
            "grid_row": null,
            "grid_template_areas": null,
            "grid_template_columns": null,
            "grid_template_rows": null,
            "height": null,
            "justify_content": null,
            "justify_items": null,
            "left": null,
            "margin": null,
            "max_height": null,
            "max_width": null,
            "min_height": null,
            "min_width": null,
            "object_fit": null,
            "object_position": null,
            "order": null,
            "overflow": null,
            "overflow_x": null,
            "overflow_y": null,
            "padding": null,
            "right": null,
            "top": null,
            "visibility": null,
            "width": null
          }
        },
        "f92945dc8a7943d7b16b93f1e5caf81a": {
          "model_module": "@jupyter-widgets/base",
          "model_module_version": "1.2.0",
          "model_name": "LayoutModel",
          "state": {
            "_model_module": "@jupyter-widgets/base",
            "_model_module_version": "1.2.0",
            "_model_name": "LayoutModel",
            "_view_count": null,
            "_view_module": "@jupyter-widgets/base",
            "_view_module_version": "1.2.0",
            "_view_name": "LayoutView",
            "align_content": null,
            "align_items": null,
            "align_self": null,
            "border": null,
            "bottom": null,
            "display": null,
            "flex": null,
            "flex_flow": null,
            "grid_area": null,
            "grid_auto_columns": null,
            "grid_auto_flow": null,
            "grid_auto_rows": null,
            "grid_column": null,
            "grid_gap": null,
            "grid_row": null,
            "grid_template_areas": null,
            "grid_template_columns": null,
            "grid_template_rows": null,
            "height": null,
            "justify_content": null,
            "justify_items": null,
            "left": null,
            "margin": null,
            "max_height": null,
            "max_width": null,
            "min_height": null,
            "min_width": null,
            "object_fit": null,
            "object_position": null,
            "order": null,
            "overflow": null,
            "overflow_x": null,
            "overflow_y": null,
            "padding": null,
            "right": null,
            "top": null,
            "visibility": null,
            "width": null
          }
        },
        "ff5d65a669784257b8523ed6ab09175d": {
          "model_module": "@jupyter-widgets/controls",
          "model_module_version": "1.5.0",
          "model_name": "FloatProgressModel",
          "state": {
            "_dom_classes": [],
            "_model_module": "@jupyter-widgets/controls",
            "_model_module_version": "1.5.0",
            "_model_name": "FloatProgressModel",
            "_view_count": null,
            "_view_module": "@jupyter-widgets/controls",
            "_view_module_version": "1.5.0",
            "_view_name": "ProgressView",
            "bar_style": "success",
            "description": "",
            "description_tooltip": null,
            "layout": "IPY_MODEL_5a79baa4acc4407a90b5b9317c95870c",
            "max": 28,
            "min": 0,
            "orientation": "horizontal",
            "style": "IPY_MODEL_37eddd5069a0442da4c3ba8c207f744d",
            "value": 28
          }
        }
      }
    }
  },
  "nbformat": 4,
  "nbformat_minor": 0
}
